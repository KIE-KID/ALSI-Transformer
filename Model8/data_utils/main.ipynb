{
 "cells": [
  {
   "cell_type": "code",
   "execution_count": 2,
   "metadata": {},
   "outputs": [],
   "source": [
    "import os\n",
    "\n",
    "from utils_park import *\n",
    "from vocab import *"
   ]
  },
  {
   "cell_type": "code",
   "execution_count": 3,
   "metadata": {},
   "outputs": [],
   "source": [
    "rq1 = '../data_RQ1/'\n",
    "VOCAB_SIZE = 40000 # 40000\n",
    "out_path = os.path.join(rq1, '40000_vocab_park/')\n",
    "\n",
    "PAD = '<pad>'\n",
    "UNK = '<unk>'\n",
    "SOS = '<start>'\n",
    "EOS = '<end>'\n",
    "\n",
    "PAD_ID = 0\n",
    "UNK_ID = 1\n",
    "SOS_ID = 2\n",
    "EOS_ID = 3\n",
    "\n",
    "train_code_path = os.path.join(rq1, 'train/train.token.code')\n",
    "train_nl_path = os.path.join(rq1,'train/train.token.nl')\n",
    "#train_sbt_path = os.path.join(rq1,'train/train.token.sbt')\n",
    "train_isbtcode_path = os.path.join(rq1,'train/train.token.isbtcode')\n",
    "train_simsbt_path = os.path.join(rq1,'train/train.token.simsbt')\n",
    "train_simsbtcode_path = os.path.join(rq1,'train/train.token.simsbtcode')\n",
    "\n",
    "valid_code_path = os.path.join(rq1, 'valid/valid.token.code')\n",
    "valid_nl_path = os.path.join(rq1, 'valid/valid.token.nl')\n",
    "#valid_sbt_path = os.path.join(rq1,'valid/valid.token.sbt')\n",
    "valid_isbtcode_path = os.path.join(rq1,'valid/valid.token.isbtcode')\n",
    "valid_simsbt_path = os.path.join(rq1,'valid/valid.token.simsbt')\n",
    "valid_simsbtcode_path = os.path.join(rq1,'valid/valid.token.simsbtcode')\n",
    "\n",
    "test_code_path = os.path.join(rq1, 'test/test.token.code')\n",
    "test_nl_path =  os.path.join(rq1, 'test/test.token.nl')\n",
    "#test_sbt_path = os.path.join(rq1,'test/test.token.sbt')\n",
    "test_isbtcode_path = os.path.join(rq1,'test/test.token.isbtcode')\n",
    "test_simsbt_path = os.path.join(rq1,'test/test.token.simsbt')\n",
    "test_simsbtcode_path = os.path.join(rq1,'test/test.token.simsbtcode')\n"
   ]
  },
  {
   "cell_type": "markdown",
   "metadata": {},
   "source": [
    "# Code Vocab 만들기"
   ]
  },
  {
   "cell_type": "code",
   "execution_count": 9,
   "metadata": {},
   "outputs": [
    {
     "name": "stdout",
     "output_type": "stream",
     "text": [
      "445812\n"
     ]
    }
   ],
   "source": [
    "f_name = train_code_path\n",
    "code_lines = read_file(f_name)\n",
    "\n",
    "print(len(code_lines)) # 문장개수"
   ]
  },
  {
   "cell_type": "code",
   "execution_count": 7,
   "metadata": {},
   "outputs": [
    {
     "data": {
      "text/plain": [
       "['<pad>', '<unk>', '(', ')', ';', '.', ',', '{', '}', '=']"
      ]
     },
     "execution_count": 7,
     "metadata": {},
     "output_type": "execute_result"
    }
   ],
   "source": [
    "code_tokens = split_code(code_lines)\n",
    "code_vocab = make_vocab(code_tokens, \"code\", VOCAB_SIZE)\n",
    "code_vocab[:10] # vocab 상위 10개 확인"
   ]
  },
  {
   "cell_type": "markdown",
   "metadata": {},
   "source": [
    "### code vocab 저장"
   ]
  },
  {
   "cell_type": "code",
   "execution_count": 8,
   "metadata": {},
   "outputs": [],
   "source": [
    "out_name = 'vocab.code'\n",
    "out_vocab = code_vocab\n",
    "save_vocab(out_path, out_name, out_vocab)"
   ]
  },
  {
   "cell_type": "markdown",
   "metadata": {},
   "source": [
    "# nl vocab 만들기"
   ]
  },
  {
   "cell_type": "code",
   "execution_count": null,
   "metadata": {},
   "outputs": [],
   "source": [
    "f_name = train_nl_path\n",
    "nl_lines = read_file(f_name)\n",
    "\n",
    "print(len(nl_lines)) # 문장개수"
   ]
  },
  {
   "cell_type": "code",
   "execution_count": null,
   "metadata": {},
   "outputs": [],
   "source": [
    "nl_vocab = make_vocab(nl_lines, \"nl\", VOCAB_SIZE)"
   ]
  },
  {
   "cell_type": "markdown",
   "metadata": {},
   "source": [
    "### nl vocab 저장"
   ]
  },
  {
   "cell_type": "code",
   "execution_count": null,
   "metadata": {},
   "outputs": [],
   "source": [
    "out_name = 'vocab.nl'\n",
    "out_vocab = nl_vocab\n",
    "save_vocab(out_path, out_name, out_vocab)       "
   ]
  },
  {
   "cell_type": "markdown",
   "metadata": {},
   "source": [
    "# isbtcode Vocab 만들기"
   ]
  },
  {
   "cell_type": "code",
   "execution_count": 10,
   "metadata": {},
   "outputs": [
    {
     "name": "stdout",
     "output_type": "stream",
     "text": [
      "445812\n"
     ]
    }
   ],
   "source": [
    "f_name = train_isbtcode_path\n",
    "isbtcode_lines = read_file(f_name)\n",
    "\n",
    "print(len(isbtcode_lines)) # 문장개수\n",
    "\n",
    "# for line in isbtcode_lines[:3]:\n",
    "#     print(line)"
   ]
  },
  {
   "cell_type": "code",
   "execution_count": 11,
   "metadata": {},
   "outputs": [],
   "source": [
    "isbtcode_vocab = make_vocab(isbtcode_lines, \"isbtcode\", VOCAB_SIZE)"
   ]
  },
  {
   "cell_type": "markdown",
   "metadata": {},
   "source": [
    "### isbtcode vocab 저장"
   ]
  },
  {
   "cell_type": "code",
   "execution_count": 12,
   "metadata": {},
   "outputs": [],
   "source": [
    "out_name = 'vocab.isbtcode'\n",
    "out_vocab = isbtcode_vocab\n",
    "save_vocab(out_path, out_name, out_vocab)       "
   ]
  },
  {
   "cell_type": "markdown",
   "metadata": {},
   "source": [
    "# SIM SBT Vocab 만들기"
   ]
  },
  {
   "cell_type": "code",
   "execution_count": null,
   "metadata": {},
   "outputs": [],
   "source": [
    "f_name = train_simsbt_path\n",
    "simsbt_lines = read_file(f_name)\n",
    "\n",
    "print(len(simsbt_lines)) # 문장개수\n",
    "\n",
    "for line in simsbt_lines[:5]:\n",
    "    print(line)"
   ]
  },
  {
   "cell_type": "code",
   "execution_count": null,
   "metadata": {},
   "outputs": [],
   "source": [
    "simsbt_vocab = make_vocab(simsbt_lines, \"simsbt\", VOCAB_SIZE)"
   ]
  },
  {
   "cell_type": "markdown",
   "metadata": {},
   "source": [
    "### sim sbt vocab 저장"
   ]
  },
  {
   "cell_type": "code",
   "execution_count": null,
   "metadata": {},
   "outputs": [],
   "source": [
    "out_name = 'vocab.simsbt'\n",
    "out_vocab = simsbt_vocab\n",
    "save_vocab(out_path, out_name, out_vocab)       "
   ]
  },
  {
   "cell_type": "markdown",
   "metadata": {},
   "source": [
    "# SIM SBT+code Vocab 만들기"
   ]
  },
  {
   "cell_type": "code",
   "execution_count": null,
   "metadata": {},
   "outputs": [],
   "source": [
    "f_name = train_simsbtcode_path \n",
    "simsbtcode_lines = read_file(f_name)\n",
    "\n",
    "print(len(simsbtcode_lines)) # 문장개수\n",
    "\n",
    "for line in simsbtcode_lines[:5]:\n",
    "    print(line)"
   ]
  },
  {
   "cell_type": "code",
   "execution_count": null,
   "metadata": {},
   "outputs": [],
   "source": [
    "simsbtcode_vocab = make_vocab(simsbtcode_lines, \"simsbtcode\", VOCAB_SIZE)"
   ]
  },
  {
   "cell_type": "markdown",
   "metadata": {},
   "source": [
    "### sim sbt+code  vocab 저장"
   ]
  },
  {
   "cell_type": "code",
   "execution_count": null,
   "metadata": {},
   "outputs": [],
   "source": [
    "out_name = 'vocab.simsbtcode'\n",
    "out_vocab = simsbtcode_vocab\n",
    "save_vocab(out_path, out_name, out_vocab)       "
   ]
  },
  {
   "cell_type": "markdown",
   "metadata": {},
   "source": [
    "# IDS"
   ]
  },
  {
   "cell_type": "code",
   "execution_count": 10,
   "metadata": {},
   "outputs": [],
   "source": [
    "train_code = read_file(train_code_path)\n",
    "\n",
    "train_ids_list = []\n",
    "for i in train_code:\n",
    "    try:\n",
    "        train_ids_list.append(get_ids(i))\n",
    "    except:\n",
    "        pass"
   ]
  },
  {
   "cell_type": "code",
   "execution_count": 12,
   "metadata": {},
   "outputs": [],
   "source": [
    "test_code = read_file(test_code_path)\n",
    "\n",
    "test_ids_list = []\n",
    "for i in test_code:\n",
    "    try:\n",
    "        test_ids_list.append(get_ids(i))\n",
    "    except:\n",
    "        pass"
   ]
  },
  {
   "cell_type": "code",
   "execution_count": null,
   "metadata": {},
   "outputs": [],
   "source": [
    "valid_code = read_file(valid_code_path)\n",
    "\n",
    "valid_ids_list = []\n",
    "for i in valid_code:\n",
    "    try:\n",
    "        valid_ids_list.append(get_ids(i))\n",
    "    except:\n",
    "        pass"
   ]
  },
  {
   "cell_type": "code",
   "execution_count": null,
   "metadata": {},
   "outputs": [],
   "source": [
    "len(train_ids_list), len(test_ids_list), len(valid_ids_list)"
   ]
  },
  {
   "cell_type": "code",
   "execution_count": 11,
   "metadata": {},
   "outputs": [],
   "source": [
    "train_out_path = rq1 +'40000_idxdata_park/train/'\n",
    "test_out_path = rq1 + '40000_idxdata_park/test/'\n",
    "valid_out_path = rq1 +'40000_idxdata_park/valid/'"
   ]
  },
  {
   "cell_type": "code",
   "execution_count": null,
   "metadata": {},
   "outputs": [],
   "source": [
    "save_file(train_out_path, 'ids', train_ids_list)\n",
    "save_file(test_out_path, 'ids', test_ids_list)\n",
    "save_file(valid_out_path, 'ids', valid_ids_list)"
   ]
  },
  {
   "cell_type": "markdown",
   "metadata": {},
   "source": [
    "# SIM_IDS"
   ]
  },
  {
   "cell_type": "code",
   "execution_count": null,
   "metadata": {},
   "outputs": [],
   "source": [
    "train_code = read_file(train_code_path)\n",
    "\n",
    "train_simids_list = []\n",
    "for i in train_code:\n",
    "    try:\n",
    "        train_simids_list.append(get_simids(i))\n",
    "    except:\n",
    "        pass"
   ]
  },
  {
   "cell_type": "code",
   "execution_count": null,
   "metadata": {},
   "outputs": [],
   "source": [
    "test_code = read_file(test_code_path)\n",
    "\n",
    "test_simids_list = []\n",
    "for i in test_code:\n",
    "    try:\n",
    "        test_simids_list.append(get_simids(i))\n",
    "    except:\n",
    "        pass"
   ]
  },
  {
   "cell_type": "code",
   "execution_count": null,
   "metadata": {},
   "outputs": [],
   "source": [
    "valid_code = read_file(valid_code_path)\n",
    "\n",
    "valid_simids_list = []\n",
    "for i in valid_code:\n",
    "    try:\n",
    "        valid_simids_list.append(get_simids(i))\n",
    "    except:\n",
    "        pass"
   ]
  },
  {
   "cell_type": "code",
   "execution_count": null,
   "metadata": {},
   "outputs": [],
   "source": [
    "len(train_simids_list), len(test_simids_list), len(valid_simids_list)"
   ]
  },
  {
   "cell_type": "markdown",
   "metadata": {},
   "source": [
    "# Vocab 불러와서 문장 indexing"
   ]
  },
  {
   "cell_type": "code",
   "execution_count": 22,
   "metadata": {},
   "outputs": [],
   "source": [
    "vocab_path = '../data_RQ1/40000_vocab_park/'\n",
    "code_vocab_path = vocab_path + 'vocab.code'\n",
    "nl_vocab_path = vocab_path + 'vocab.nl'\n",
    "isbtcode_vocab_path = vocab_path + 'vocab.isbtcode'\n",
    "simsbt_vocab_path = vocab_path + 'vocab.simsbt'\n",
    "simsbtcode_vocab_path = vocab_path + 'vocab.simsbtcode' \n",
    "\n",
    "# out path\n",
    "train_out_path = '../data_RQ1/40000_idxdata_park/train/'\n",
    "test_out_path = '../data_RQ1/40000_idxdata_park/test/'\n",
    "valid_out_path = '../data_RQ1/40000_idxdata_park/valid/'"
   ]
  },
  {
   "cell_type": "code",
   "execution_count": null,
   "metadata": {},
   "outputs": [],
   "source": [
    "# sbt_dic, rev_sbt_dic = initialize_vocabulary(se_sbt_vocab_path) # file to dictionary\n",
    "\n",
    "# test_sbt = idx_to_sentence('./test/sbt', rev_sbt_dic, \"sbt\")"
   ]
  },
  {
   "cell_type": "markdown",
   "metadata": {},
   "source": [
    "### vocab 파일 불러와서 딕셔너리 생성"
   ]
  },
  {
   "cell_type": "markdown",
   "metadata": {},
   "source": [
    "### indexing code"
   ]
  },
  {
   "cell_type": "code",
   "execution_count": null,
   "metadata": {},
   "outputs": [],
   "source": [
    "code_dic, rev_code_dic = initialize_vocabulary(code_vocab_path) # file to dictionary\n",
    "\n",
    "train_code = sentence_to_idx(train_code_path, code_dic, \"code\")\n",
    "test_code = sentence_to_idx(test_code_path, code_dic, \"code\")\n",
    "valid_code = sentence_to_idx(valid_code_path, code_dic, \"code\")"
   ]
  },
  {
   "cell_type": "code",
   "execution_count": null,
   "metadata": {},
   "outputs": [],
   "source": [
    "save_idx_file(train_out_path, 'code', train_code)\n",
    "save_idx_file(test_out_path, 'code', test_code)\n",
    "save_idx_file(valid_out_path, 'code', valid_code)"
   ]
  },
  {
   "cell_type": "markdown",
   "metadata": {},
   "source": [
    "### indexing nl"
   ]
  },
  {
   "cell_type": "code",
   "execution_count": null,
   "metadata": {},
   "outputs": [],
   "source": [
    "nl_dic, rev_nl_dic = initialize_vocabulary(nl_vocab_path) # file to dictionary\n",
    "\n",
    "train_nl = sentence_to_idx(train_nl_path, nl_dic, \"nl\")\n",
    "test_nl = sentence_to_idx(test_nl_path, nl_dic, \"nl\")\n",
    "valid_nl = sentence_to_idx(valid_nl_path, nl_dic, \"nl\")"
   ]
  },
  {
   "cell_type": "code",
   "execution_count": null,
   "metadata": {},
   "outputs": [],
   "source": [
    "save_idx_file(train_out_path, 'nl', train_nl)\n",
    "save_idx_file(test_out_path, 'nl', test_nl)\n",
    "save_idx_file(valid_out_path, 'nl', valid_nl)"
   ]
  },
  {
   "cell_type": "markdown",
   "metadata": {},
   "source": [
    "### indexing isbtcode"
   ]
  },
  {
   "cell_type": "code",
   "execution_count": 18,
   "metadata": {},
   "outputs": [],
   "source": [
    "isbtcode_dic, rev_isbtcode_dic = initialize_vocabulary(isbtcode_vocab_path) # file to dictionary\n",
    "\n",
    "train_isbtcode = sentence_to_idx(train_isbtcode_path, isbtcode_dic, \"isbtcode\")\n",
    "test_isbtcode = sentence_to_idx(test_isbtcode_path, isbtcode_dic, \"isbtcode\")\n",
    "valid_isbtcode = sentence_to_idx(valid_isbtcode_path, isbtcode_dic, \"isbtcode\")"
   ]
  },
  {
   "cell_type": "code",
   "execution_count": 23,
   "metadata": {},
   "outputs": [],
   "source": [
    "save_idx_file(train_out_path, 'isbtcode', train_isbtcode)\n",
    "save_idx_file(test_out_path, 'isbtcode', test_isbtcode)\n",
    "save_idx_file(valid_out_path, 'isbtcode', valid_isbtcode)"
   ]
  },
  {
   "cell_type": "markdown",
   "metadata": {},
   "source": [
    "### indexing simsbt"
   ]
  },
  {
   "cell_type": "code",
   "execution_count": null,
   "metadata": {},
   "outputs": [],
   "source": [
    "simsbt_dic, rev_simsbt_dic = initialize_vocabulary(simsbt_vocab_path) # file to dictionary\n",
    "\n",
    "train_simsbt = sentence_to_idx(train_simsbt_path, simsbt_dic, \"simsbt\")\n",
    "test_simsbt = sentence_to_idx(test_simsbt_path, simsbt_dic, \"simsbt\")\n",
    "valid_simsbt = sentence_to_idx(valid_simsbt_path, simsbt_dic, \"simsbt\")"
   ]
  },
  {
   "cell_type": "code",
   "execution_count": null,
   "metadata": {},
   "outputs": [],
   "source": [
    "save_idx_file(train_out_path, 'simsbt', train_simsbt)\n",
    "save_idx_file(test_out_path, 'simsbt', test_simsbt)\n",
    "save_idx_file(valid_out_path, 'simsbt', valid_simsbt)"
   ]
  },
  {
   "cell_type": "markdown",
   "metadata": {},
   "source": [
    "### indexing simsbtcode"
   ]
  },
  {
   "cell_type": "code",
   "execution_count": null,
   "metadata": {},
   "outputs": [],
   "source": [
    "simsbtcode_dic, rev_simsbtcode_dic = initialize_vocabulary(simsbtcode_vocab_path) # file to dictionary\n",
    "\n",
    "train_simsbtcode = sentence_to_idx(train_simsbtcode_path, simsbtcode_dic, \"simsbtcode\")\n",
    "test_simsbtcode = sentence_to_idx(test_simsbtcode_path, simsbtcode_dic, \"simsbtcode\")\n",
    "valid_simsbtcode = sentence_to_idx(valid_simsbtcode_path, simsbtcode_dic, \"simsbtcode\")"
   ]
  },
  {
   "cell_type": "code",
   "execution_count": null,
   "metadata": {},
   "outputs": [],
   "source": [
    "save_idx_file(train_out_path, 'simsbtcode', train_simsbtcode)\n",
    "save_idx_file(test_out_path, 'simsbtcode', test_simsbtcode)\n",
    "save_idx_file(valid_out_path, 'simsbtcode', valid_simsbtcode)"
   ]
  },
  {
   "cell_type": "code",
   "execution_count": null,
   "metadata": {},
   "outputs": [],
   "source": []
  }
 ],
 "metadata": {
  "interpreter": {
   "hash": "caf1c2fcf97217de91eafa76b907d50f9ea378f5ffbee7f571142d119bb6a771"
  },
  "kernelspec": {
   "display_name": "Python 3.9.7 ('base': conda)",
   "language": "python",
   "name": "python3"
  },
  "language_info": {
   "codemirror_mode": {
    "name": "ipython",
    "version": 3
   },
   "file_extension": ".py",
   "mimetype": "text/x-python",
   "name": "python",
   "nbconvert_exporter": "python",
   "pygments_lexer": "ipython3",
   "version": "3.7.13"
  },
  "orig_nbformat": 4
 },
 "nbformat": 4,
 "nbformat_minor": 2
}
