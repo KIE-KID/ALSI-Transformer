{
 "cells": [
  {
   "cell_type": "code",
   "execution_count": 26,
   "metadata": {},
   "outputs": [],
   "source": [
    "import os\n",
    "\n",
    "from utils_park import *\n",
    "from vocab import *\n",
    "\n",
    "from tokenizers import Tokenizer\n",
    "from tokenizers.pre_tokenizers import Whitespace\n",
    "from tokenizers.models import BPE\n",
    "from tokenizers.trainers import BpeTrainer"
   ]
  },
  {
   "cell_type": "code",
   "execution_count": 8,
   "metadata": {},
   "outputs": [],
   "source": [
    "rq1 = '../newsbt_data/'\n",
    "VOCAB_SIZE = 40000 # 40000\n",
    "out_path = os.path.join(rq1, '40000_vocab_park/')\n",
    "\n",
    "PAD = '<pad>'\n",
    "UNK = '<unk>'\n",
    "SOS = '<start>'\n",
    "EOS = '<end>'\n",
    "\n",
    "PAD_ID = 0\n",
    "UNK_ID = 1\n",
    "SOS_ID = 2\n",
    "EOS_ID = 3\n",
    "\n",
    "train_code_path = os.path.join(rq1, 'train/train.token.code')\n",
    "train_type_path = os.path.join(rq1,'train/type')\n",
    "train_simsbtcode_path = os.path.join(rq1,'train/train.token.simsbtcode')\n",
    "\n",
    "valid_code_path = os.path.join(rq1, 'valid/valid.token.code')\n",
    "valid_type_path = os.path.join(rq1,'valid/type')\n",
    "valid_simsbtcode_path = os.path.join(rq1,'valid/valid.token.simsbtcode')\n",
    "\n",
    "test_code_path = os.path.join(rq1, 'test/test.token.code')\n",
    "test_type_path = os.path.join(rq1,'test/type')\n",
    "test_simsbtcode_path = os.path.join(rq1,'test/test.token.simsbtcode')\n"
   ]
  },
  {
   "cell_type": "code",
   "execution_count": 9,
   "metadata": {},
   "outputs": [],
   "source": [
    "train_code = read_file(train_code_path)\n",
    "test_code = read_file(test_code_path)\n",
    "valid_code = read_file(valid_code_path)\n",
    "\n",
    "train_type = read_file(train_type_path)\n",
    "test_type = read_file(test_type_path)\n",
    "valid_type = read_file(valid_type_path)"
   ]
  },
  {
   "cell_type": "code",
   "execution_count": 15,
   "metadata": {},
   "outputs": [],
   "source": [
    "def join_code_type(code_data, type_data):\n",
    "    data = []\n",
    "    for i, j in zip(code_data, type_data):\n",
    "        temp = i + ' ' + j\n",
    "        data.append(temp)\n",
    "    return data\n"
   ]
  },
  {
   "cell_type": "code",
   "execution_count": 20,
   "metadata": {},
   "outputs": [],
   "source": [
    "def join_code_type_withtoken(code_data, type_data):\n",
    "    data = []\n",
    "    for i, j in zip(code_data, type_data):\n",
    "        temp = i + ' <code> ' + j\n",
    "        data.append(temp)\n",
    "    return data\n"
   ]
  },
  {
   "cell_type": "code",
   "execution_count": 22,
   "metadata": {},
   "outputs": [],
   "source": [
    "train_data = join_code_type(train_code, train_type)\n",
    "test_data = join_code_type(test_code, test_type)\n",
    "valid_data = join_code_type(valid_code, valid_type)\n",
    "\n",
    "train_data2 = join_code_type_withtoken(train_code, train_type)\n",
    "test_data2 = join_code_type_withtoken(test_code, test_type)\n",
    "valid_data2 = join_code_type_withtoken(valid_code, valid_type)"
   ]
  },
  {
   "cell_type": "code",
   "execution_count": 18,
   "metadata": {},
   "outputs": [],
   "source": [
    "# out path\n",
    "train_out_path = '../newsbt_data/train/'\n",
    "test_out_path = '../newsbt_data/test/'\n",
    "valid_out_path = '../newsbt_data/valid/'"
   ]
  },
  {
   "cell_type": "code",
   "execution_count": 23,
   "metadata": {},
   "outputs": [],
   "source": [
    "save_file(train_out_path, \"codetype\", train_data)\n",
    "save_file(test_out_path, \"codetype\", test_data)\n",
    "save_file(valid_out_path, \"codetype\", valid_data)\n",
    "\n",
    "save_file(train_out_path, \"code_type\", train_data2)\n",
    "save_file(test_out_path, \"code_type\", test_data2)\n",
    "save_file(valid_out_path, \"code_type\", valid_data2)"
   ]
  },
  {
   "cell_type": "markdown",
   "metadata": {},
   "source": [
    "# Make Vocab"
   ]
  },
  {
   "cell_type": "code",
   "execution_count": 69,
   "metadata": {},
   "outputs": [
    {
     "name": "stdout",
     "output_type": "stream",
     "text": [
      "445812\n",
      "20000\n",
      "20000\n",
      "445812\n",
      "20000\n",
      "20000\n"
     ]
    }
   ],
   "source": [
    "train_codetype_lines = read_file('../newsbt_data/train/codetype')\n",
    "test_codetype_lines = read_file('../newsbt_data/test/codetype')\n",
    "valid_codetype_lines = read_file('../newsbt_data/valid/codetype')\n",
    "print(len(train_codetype_lines)) # 문장개수\n",
    "print(len(test_codetype_lines)) # 문장개수\n",
    "print(len(valid_codetype_lines)) # 문장개수\n",
    "\n",
    "train_code_type_lines = read_file('../newsbt_data/train/code_type')\n",
    "test_code_type_lines = read_file('../newsbt_data/test/code_type')\n",
    "valid_code_type_lines = read_file('../newsbt_data/valid/code_type')\n",
    "print(len(train_code_type_lines)) # 문장개수\n",
    "print(len(test_code_type_lines)) # 문장개수\n",
    "print(len(valid_code_type_lines)) # 문장/개수"
   ]
  },
  {
   "cell_type": "code",
   "execution_count": 77,
   "metadata": {},
   "outputs": [
    {
     "name": "stdout",
     "output_type": "stream",
     "text": [
      "\n",
      "\n",
      "\n"
     ]
    }
   ],
   "source": [
    "t1 = Tokenizer(BPE())\n",
    "t1.pre_tokenizer = Whitespace()\n",
    "trainer = BpeTrainer(vocab_size=52000,\n",
    "show_progress = True,\n",
    "special_tokens = [\"<pad>\",\"<unk>\", \"<start>\", \"<end>\"])\n",
    "t1.train(files=[\"../newsbt_data/train/codetype\"], trainer=trainer)"
   ]
  },
  {
   "cell_type": "code",
   "execution_count": 78,
   "metadata": {},
   "outputs": [],
   "source": [
    "t1.save(\"../newsbt_data/vocabulary/codetype_bpe.json\")"
   ]
  },
  {
   "cell_type": "code",
   "execution_count": 79,
   "metadata": {},
   "outputs": [
    {
     "name": "stdout",
     "output_type": "stream",
     "text": [
      "\n",
      "\n",
      "\n"
     ]
    }
   ],
   "source": [
    "t2 = Tokenizer(BPE())\n",
    "t2.pre_tokenizer = Whitespace()\n",
    "trainer = BpeTrainer(vocab_size=52000,\n",
    "show_progress = True,\n",
    "special_tokens = [\"<pad>\",\"<unk>\", \"<start>\", \"<end>\", \"<code>\"])\n",
    "t2.train(files=[\"../newsbt_data/train/code_type\"], trainer=trainer)"
   ]
  },
  {
   "cell_type": "code",
   "execution_count": 80,
   "metadata": {},
   "outputs": [],
   "source": [
    "t2.save(\"../newsbt_data/vocabulary/code_type_bpe.json\")"
   ]
  },
  {
   "cell_type": "markdown",
   "metadata": {},
   "source": [
    "### indexing newsbtcode"
   ]
  },
  {
   "cell_type": "code",
   "execution_count": 81,
   "metadata": {},
   "outputs": [],
   "source": [
    "my_tokenizer1 = Tokenizer.from_file(\"../newsbt_data/vocabulary/codetype_bpe.json\")\n",
    "my_tokenizer2 = Tokenizer.from_file(\"../newsbt_data/vocabulary/code_type_bpe.json\")"
   ]
  },
  {
   "cell_type": "code",
   "execution_count": 82,
   "metadata": {},
   "outputs": [],
   "source": [
    "def make_tokens(tokenizer, lines):\n",
    "    data = []\n",
    "    for i in lines:\n",
    "        output = tokenizer.encode(i)\n",
    "        data.append(output.ids)\n",
    "    return data"
   ]
  },
  {
   "cell_type": "code",
   "execution_count": 83,
   "metadata": {},
   "outputs": [],
   "source": [
    "# out path\n",
    "train_out_path = '../newsbt_data/train/'\n",
    "test_out_path = '../newsbt_data/test/'\n",
    "valid_out_path = '../newsbt_data/valid/'"
   ]
  },
  {
   "cell_type": "code",
   "execution_count": 84,
   "metadata": {},
   "outputs": [],
   "source": [
    "train_data1 = make_tokens(my_tokenizer1, train_codetype_lines)\n",
    "test_data1 = make_tokens(my_tokenizer1, test_codetype_lines)\n",
    "valid_data1 = make_tokens(my_tokenizer1, valid_codetype_lines)\n",
    "\n",
    "train_data2 = make_tokens(my_tokenizer2, train_code_type_lines)\n",
    "test_data2 = make_tokens(my_tokenizer2, test_code_type_lines)\n",
    "valid_data2 = make_tokens(my_tokenizer2, valid_code_type_lines)"
   ]
  },
  {
   "cell_type": "code",
   "execution_count": 98,
   "metadata": {},
   "outputs": [],
   "source": [
    "save_idx_file(train_out_path, \"codetype_bpe\", train_data1)\n",
    "save_idx_file(test_out_path, \"codetype_bpe\", test_data1)\n",
    "save_idx_file(valid_out_path, 'codetype_bpe', valid_data1)\n",
    "\n",
    "save_idx_file(train_out_path, \"code_type_bpe\", train_data2)\n",
    "save_idx_file(test_out_path, \"code_type_bpe\", test_data2)\n",
    "save_idx_file(valid_out_path, 'code_type_bpe', valid_data2)\n"
   ]
  },
  {
   "cell_type": "code",
   "execution_count": null,
   "metadata": {},
   "outputs": [],
   "source": []
  }
 ],
 "metadata": {
  "interpreter": {
   "hash": "caf1c2fcf97217de91eafa76b907d50f9ea378f5ffbee7f571142d119bb6a771"
  },
  "kernelspec": {
   "display_name": "Python 3.9.7 ('base': conda)",
   "language": "python",
   "name": "python3"
  },
  "language_info": {
   "codemirror_mode": {
    "name": "ipython",
    "version": 3
   },
   "file_extension": ".py",
   "mimetype": "text/x-python",
   "name": "python",
   "nbconvert_exporter": "python",
   "pygments_lexer": "ipython3",
   "version": "3.7.13"
  },
  "orig_nbformat": 4
 },
 "nbformat": 4,
 "nbformat_minor": 2
}
