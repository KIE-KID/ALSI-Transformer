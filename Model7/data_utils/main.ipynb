{
 "cells": [
  {
   "cell_type": "code",
   "execution_count": 1,
   "metadata": {},
   "outputs": [
    {
     "name": "stderr",
     "output_type": "stream",
     "text": [
      "[nltk_data] Downloading package punkt to /home/ubuntu/nltk_data...\n",
      "[nltk_data]   Package punkt is already up-to-date!\n"
     ]
    }
   ],
   "source": [
    "import os\n",
    "\n",
    "from utils_park import *\n",
    "from vocab import *\n",
    "\n",
    "from tokenizers import Tokenizer\n",
    "from tokenizers.pre_tokenizers import Whitespace\n",
    "from tokenizers.models import BPE\n",
    "from tokenizers.trainers import BpeTrainer\n",
    "\n",
    "from collections import Counter\n",
    "import numpy as np\n",
    "import pandas as pd\t\n",
    "import matplotlib.pyplot as plt\n",
    "%matplotlib inline"
   ]
  },
  {
   "cell_type": "code",
   "execution_count": null,
   "metadata": {},
   "outputs": [],
   "source": [
    "dir = '../newsbt_data/'\n",
    "train_code_path = os.path.join(dir,'train/code_bpe')\n",
    "valid_code_path = os.path.join(dir,'valid/code_bpe')\n",
    "test_code_path = os.path.join(dir,'test/code_bpe')\n",
    "\n",
    "train_nl_path = os.path.join(dir,'train/nl')\n",
    "valid_nl_path = os.path.join(dir,'valid/nl')\n",
    "test_nl_path = os.path.join(dir,'test/nl')"
   ]
  },
  {
   "cell_type": "code",
   "execution_count": null,
   "metadata": {},
   "outputs": [],
   "source": [
    "# 데이터 토큰개수 리스트\n",
    "def count_token(f_name):\n",
    "    tokens = read_file(f_name)\n",
    "    len_list = [len(x.split()) for x in tokens]\n",
    "    return len_list\n",
    "\n",
    "# 통계분석\n",
    "def cal(len_list):\n",
    "    mean = np.mean(len_list) # 평균\n",
    "    var = np.var(len_list) # 분산\n",
    "    std = np.std(len_list) # 표준편차\n",
    "    max_ = max(len_list) # 최댓값\n",
    "    min_ = min(len_list) # 최솟값\n",
    "    mid = np.median(len_list) # 중앙값\n",
    "\n",
    "    c = Counter(len_list) \n",
    "    temp_mode = c.most_common(1) # 최빈값\n",
    "    mode = temp_mode[0][0]\n",
    "\n",
    "    print(f'mean: {mean:.5f}')\n",
    "    print(f'variance: {var:.5f}')\n",
    "    print(f'std: {std:.5f}')\n",
    "    print(f'mode: {mode:.5f}')\n",
    "    print(f'mid: {mid:.5f}')\n",
    "    print(f'max: {max_:.5f}')\n",
    "    print(f'min: {min_:.5f}')"
   ]
  },
  {
   "cell_type": "code",
   "execution_count": null,
   "metadata": {},
   "outputs": [],
   "source": [
    "train_code_tkn = count_token(train_code_path)\n",
    "cal(train_code_tkn)"
   ]
  },
  {
   "cell_type": "code",
   "execution_count": null,
   "metadata": {},
   "outputs": [],
   "source": [
    "test_code_tkn = count_token(test_code_path)\n",
    "cal(test_code_tkn)"
   ]
  },
  {
   "cell_type": "code",
   "execution_count": null,
   "metadata": {},
   "outputs": [],
   "source": [
    "valid_code_tkn = count_token(valid_code_path)\n",
    "cal(valid_code_tkn)"
   ]
  },
  {
   "cell_type": "code",
   "execution_count": null,
   "metadata": {},
   "outputs": [],
   "source": [
    "all_code_tkn = train_code_tkn + test_code_tkn + valid_code_tkn\n",
    "cal(all_code_tkn)"
   ]
  },
  {
   "cell_type": "code",
   "execution_count": null,
   "metadata": {},
   "outputs": [],
   "source": [
    "train_nl_tkn = count_token(train_nl_path)\n",
    "cal(train_nl_tkn)"
   ]
  },
  {
   "cell_type": "code",
   "execution_count": null,
   "metadata": {},
   "outputs": [],
   "source": [
    "test_nl_tkn = count_token(test_nl_path)\n",
    "cal(test_nl_tkn)"
   ]
  },
  {
   "cell_type": "code",
   "execution_count": null,
   "metadata": {},
   "outputs": [],
   "source": [
    "valid_nl_tkn = count_token(valid_nl_path)\n",
    "cal(valid_nl_tkn)"
   ]
  },
  {
   "cell_type": "code",
   "execution_count": null,
   "metadata": {},
   "outputs": [],
   "source": [
    "all_nl_tkn = train_nl_tkn + test_nl_tkn + valid_nl_tkn\n",
    "cal(all_nl_tkn)"
   ]
  },
  {
   "cell_type": "code",
   "execution_count": null,
   "metadata": {},
   "outputs": [],
   "source": [
    "plt.style.use(['seaborn'])\n",
    "plt.figure(figsize=((8,6)))\n",
    "plt.xlabel('Code Length(Tokens)')\n",
    "plt.ylabel('Count')\n",
    "plt.hist(all_code_tkn, bins=20, rwidth = 0.9)\n",
    "plt.show()"
   ]
  },
  {
   "cell_type": "code",
   "execution_count": null,
   "metadata": {},
   "outputs": [],
   "source": [
    "plt.style.use(['seaborn'])\n",
    "plt.figure(figsize=((8,6)))\n",
    "plt.xlabel('Comment Length(Tokens)')\n",
    "plt.ylabel('Count')\n",
    "plt.hist(all_nl_tkn, bins=15, rwidth = 0.9)\n",
    "plt.show()"
   ]
  },
  {
   "cell_type": "code",
   "execution_count": 2,
   "metadata": {},
   "outputs": [],
   "source": [
    "dir = '../newsbt_data/'\n",
    "out_path = os.path.join(dir, '40000_vocab_park/')\n",
    "\n",
    "PAD = '<pad>'\n",
    "UNK = '<unk>'\n",
    "SOS = '<start>'\n",
    "EOS = '<end>'\n",
    "\n",
    "PAD_ID = 0\n",
    "UNK_ID = 1\n",
    "SOS_ID = 2\n",
    "EOS_ID = 3\n",
    "\n",
    "train_code_path = os.path.join(dir, 'train/train.token.code')\n",
    "train_type_path = os.path.join(dir,'train/type')\n",
    "\n",
    "valid_code_path = os.path.join(dir, 'valid/valid.token.code')\n",
    "valid_type_path = os.path.join(dir,'valid/type')\n",
    "\n",
    "test_code_path = os.path.join(dir, 'test/test.token.code')\n",
    "test_type_path = os.path.join(dir,'test/type')"
   ]
  },
  {
   "cell_type": "code",
   "execution_count": 3,
   "metadata": {},
   "outputs": [],
   "source": [
    "train_code = read_file(train_code_path)\n",
    "test_code = read_file(test_code_path)\n",
    "valid_code = read_file(valid_code_path)\n",
    "\n",
    "train_type = read_file(train_type_path)\n",
    "test_type = read_file(test_type_path)\n",
    "valid_type = read_file(valid_type_path)"
   ]
  },
  {
   "cell_type": "markdown",
   "metadata": {},
   "source": [
    "# Make Vocab"
   ]
  },
  {
   "cell_type": "code",
   "execution_count": 5,
   "metadata": {},
   "outputs": [
    {
     "name": "stdout",
     "output_type": "stream",
     "text": [
      "\n",
      "\n",
      "\n"
     ]
    }
   ],
   "source": [
    "t1 = Tokenizer(BPE())\n",
    "t1.pre_tokenizer = Whitespace()\n",
    "trainer = BpeTrainer(vocab_size=52000,\n",
    "show_progress = True,\n",
    "special_tokens = [\"<pad>\",\"<unk>\", \"<start>\", \"<end>\"])\n",
    "t1.train(files=[\"../newsbt_data/train/train.token.code\"], trainer=trainer)"
   ]
  },
  {
   "cell_type": "code",
   "execution_count": 6,
   "metadata": {},
   "outputs": [],
   "source": [
    "t1.save(\"../newsbt_data/vocabulary/code_bpe.json\")"
   ]
  },
  {
   "cell_type": "code",
   "execution_count": 7,
   "metadata": {},
   "outputs": [
    {
     "name": "stdout",
     "output_type": "stream",
     "text": [
      "\n",
      "\n",
      "\n"
     ]
    }
   ],
   "source": [
    "t2 = Tokenizer(BPE())\n",
    "t2.pre_tokenizer = Whitespace()\n",
    "trainer = BpeTrainer(vocab_size=52000,\n",
    "show_progress = True,\n",
    "special_tokens = [\"<pad>\",\"<unk>\", \"<start>\", \"<end>\"])\n",
    "t2.train(files=[\"../newsbt_data/train/type\"], trainer=trainer)"
   ]
  },
  {
   "cell_type": "code",
   "execution_count": 8,
   "metadata": {},
   "outputs": [],
   "source": [
    "t2.save(\"../newsbt_data/vocabulary/type_bpe.json\")"
   ]
  },
  {
   "cell_type": "markdown",
   "metadata": {},
   "source": [
    "### indexing newsbtcode"
   ]
  },
  {
   "cell_type": "code",
   "execution_count": 9,
   "metadata": {},
   "outputs": [],
   "source": [
    "my_tokenizer1 = Tokenizer.from_file(\"../newsbt_data/vocabulary/code_bpe.json\")\n",
    "my_tokenizer2 = Tokenizer.from_file(\"../newsbt_data/vocabulary/type_bpe.json\")"
   ]
  },
  {
   "cell_type": "code",
   "execution_count": 10,
   "metadata": {},
   "outputs": [],
   "source": [
    "def make_tokens(tokenizer, lines):\n",
    "    data = []\n",
    "    for i in lines:\n",
    "        output = tokenizer.encode(i)\n",
    "        data.append(output.ids)\n",
    "    return data"
   ]
  },
  {
   "cell_type": "code",
   "execution_count": 11,
   "metadata": {},
   "outputs": [],
   "source": [
    "# out path\n",
    "train_out_path = '../newsbt_data/train/'\n",
    "test_out_path = '../newsbt_data/test/'\n",
    "valid_out_path = '../newsbt_data/valid/'"
   ]
  },
  {
   "cell_type": "code",
   "execution_count": 12,
   "metadata": {},
   "outputs": [],
   "source": [
    "train_data1 = make_tokens(my_tokenizer1, train_code)\n",
    "test_data1 = make_tokens(my_tokenizer1, test_code)\n",
    "valid_data1 = make_tokens(my_tokenizer1, valid_code)\n",
    "\n",
    "save_idx_file(train_out_path, \"code_bpe\", train_data1)\n",
    "save_idx_file(test_out_path, \"code_bpe\", test_data1)\n",
    "save_idx_file(valid_out_path, 'code_bpe', valid_data1)"
   ]
  },
  {
   "cell_type": "code",
   "execution_count": 13,
   "metadata": {},
   "outputs": [],
   "source": [
    "train_data2 = make_tokens(my_tokenizer2, train_type)\n",
    "test_data2 = make_tokens(my_tokenizer2, test_type)\n",
    "valid_data2 = make_tokens(my_tokenizer2, valid_type)\n",
    "\n",
    "save_idx_file(train_out_path, \"type_bpe\", train_data2)\n",
    "save_idx_file(test_out_path, \"type_bpe\", test_data2)\n",
    "save_idx_file(valid_out_path, 'type_bpe', valid_data2)\n"
   ]
  },
  {
   "cell_type": "code",
   "execution_count": null,
   "metadata": {},
   "outputs": [],
   "source": []
  }
 ],
 "metadata": {
  "interpreter": {
   "hash": "caf1c2fcf97217de91eafa76b907d50f9ea378f5ffbee7f571142d119bb6a771"
  },
  "kernelspec": {
   "display_name": "Python 3.9.7 ('base': conda)",
   "language": "python",
   "name": "python3"
  },
  "language_info": {
   "codemirror_mode": {
    "name": "ipython",
    "version": 3
   },
   "file_extension": ".py",
   "mimetype": "text/x-python",
   "name": "python",
   "nbconvert_exporter": "python",
   "pygments_lexer": "ipython3",
   "version": "3.7.13"
  },
  "orig_nbformat": 4
 },
 "nbformat": 4,
 "nbformat_minor": 2
}
