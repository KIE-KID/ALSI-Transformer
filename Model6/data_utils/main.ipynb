{
 "cells": [
  {
   "cell_type": "code",
   "execution_count": 23,
   "metadata": {},
   "outputs": [
    {
     "name": "stderr",
     "output_type": "stream",
     "text": [
      "[nltk_data] Downloading package punkt to /home/ubuntu/nltk_data...\n",
      "[nltk_data]   Package punkt is already up-to-date!\n"
     ]
    }
   ],
   "source": [
    "import os\n",
    "\n",
    "from utils_park import *\n",
    "from vocab import *\n",
    "\n",
    "from tokenizers import Tokenizer\n",
    "from tokenizers.pre_tokenizers import Whitespace\n",
    "from tokenizers.models import BPE\n",
    "from tokenizers.trainers import BpeTrainer\n",
    "\n",
    "from transformers import BartForConditionalGeneration, BartTokenizer\n",
    "from tokenizers import ByteLevelBPETokenizer"
   ]
  },
  {
   "cell_type": "code",
<<<<<<< HEAD
   "execution_count": 16,
=======
   "execution_count": 2,
>>>>>>> main
   "metadata": {},
   "outputs": [],
   "source": [
    "rq1 = '../newsbt_data'\n",
    "VOCAB_SIZE = 40000 # 40000\n",
    "out_path = os.path.join(rq1, 'vocabulary/')\n",
    "\n",
    "PAD = '<pad>'\n",
    "UNK = '<unk>'\n",
    "SOS = '<start>'\n",
    "EOS = '<end>'\n",
    "\n",
    "PAD_ID = 0\n",
    "UNK_ID = 1\n",
    "SOS_ID = 2\n",
    "EOS_ID = 3\n",
    "\n",
    "train_newsbtcode_path = os.path.join(rq1,'train/newsbtcode')\n",
<<<<<<< HEAD
    "\n",
    "valid_newsbtcode_path = os.path.join(rq1,'valid/newsbtcode')\n",
    "\n",
=======
    "valid_newsbtcode_path = os.path.join(rq1,'valid/newsbtcode')\n",
>>>>>>> main
    "test_newsbtcode_path = os.path.join(rq1,'test/newsbtcode')"
   ]
  },
  {
<<<<<<< HEAD
   "cell_type": "markdown",
   "metadata": {},
   "source": [
    "# Code, nl Vocab은 다른 모델과 동일"
   ]
  },
  {
   "cell_type": "markdown",
   "metadata": {},
   "source": [
    "# newsbtcode Vocab 만들기"
=======
   "cell_type": "code",
   "execution_count": 3,
   "metadata": {},
   "outputs": [
    {
     "name": "stdout",
     "output_type": "stream",
     "text": [
      "445812\n",
      "20000\n",
      "20000\n"
     ]
    }
   ],
   "source": [
    "train_newsbtcode_lines = read_file(train_newsbtcode_path)\n",
    "test_newsbtcode_lines = read_file(test_newsbtcode_path)\n",
    "valid_newsbtcode_lines = read_file(valid_newsbtcode_path)\n",
    "print(len(train_newsbtcode_lines)) # 문장개수\n",
    "print(len(test_newsbtcode_lines)) # 문장개수\n",
    "print(len(valid_newsbtcode_lines)) # 문장개수\n",
    "\n",
    "# for line in isbtcode_lines[:3]:\n",
    "#     print(line)"
   ]
  },
  {
   "cell_type": "code",
   "execution_count": 43,
   "metadata": {},
   "outputs": [
    {
     "name": "stdout",
     "output_type": "stream",
     "text": [
      "\n",
      "\n",
      "\n"
     ]
    }
   ],
   "source": [
    "tokenizer = ByteLevelBPETokenizer()\n",
    "tokenizer.train(files=\"../newsbt_data/train/newsbtcode\",\n",
    "                vocab_size=52000, min_frequency=1, special_tokens=[\"<pad>\",\"<unk>\", \"<start>\", \"<end>\"])"
>>>>>>> main
   ]
  },
  {
   "cell_type": "code",
<<<<<<< HEAD
   "execution_count": 12,
=======
   "execution_count": 24,
>>>>>>> main
   "metadata": {},
   "outputs": [
    {
     "name": "stdout",
     "output_type": "stream",
     "text": [
      "\n",
      "\n",
      "\n"
     ]
    }
   ],
   "source": [
<<<<<<< HEAD
    "f_name = train_newsbtcode_path\n",
    "newsbtcode_lines = read_file(f_name)\n",
    "\n",
    "print(len(newsbtcode_lines)) # 문장개수\n",
    "\n",
    "# for line in isbtcode_lines[:3]:\n",
    "#     print(line)"
=======
    "t = Tokenizer(BPE())\n",
    "t.pre_tokenizer = Whitespace()\n",
    "trainer = BpeTrainer(vocab_size=52000,\n",
    "show_progress = True,\n",
    "special_tokens = [\"<pad>\",\"<unk>\", \"<start>\", \"<end>\"])\n",
    "t.train(files=[\"../newsbt_data/train/newsbtcode\"], trainer=trainer)"
>>>>>>> main
   ]
  },
  {
   "cell_type": "code",
<<<<<<< HEAD
   "execution_count": 14,
   "metadata": {},
   "outputs": [],
   "source": [
    "newsbtcode_vocab = make_vocab(newsbtcode_lines, \"newsbtcode\", VOCAB_SIZE)"
=======
   "execution_count": 25,
   "metadata": {},
   "outputs": [],
   "source": [
    "t.save(\"../newsbt_data/vocabulary/newsbtcode_bpe.json\")"
>>>>>>> main
   ]
  },
  {
   "cell_type": "markdown",
   "metadata": {},
   "source": [
<<<<<<< HEAD
    "### newsbtcode vocab 저장"
=======
    "### indexing newsbtcode"
>>>>>>> main
   ]
  },
  {
   "cell_type": "code",
<<<<<<< HEAD
   "execution_count": 15,
   "metadata": {},
   "outputs": [],
   "source": [
    "out_name = 'newsbtcode'\n",
    "out_vocab = newsbtcode_vocab\n",
    "save_vocab(out_path, out_name, out_vocab)       "
   ]
  },
  {
   "cell_type": "markdown",
   "metadata": {},
   "source": [
    "# Vocab 불러와서 문장 indexing"
=======
   "execution_count": 26,
   "metadata": {},
   "outputs": [],
   "source": [
    "my_tokenizer = Tokenizer.from_file(\"../newsbt_data/vocabulary/newsbtcode_bpe.json\")"
   ]
  },
  {
   "cell_type": "code",
   "execution_count": 32,
   "metadata": {},
   "outputs": [],
   "source": [
    "def make_tokens(tokenizer, lines):\n",
    "    data = []\n",
    "    for i in lines:\n",
    "        output = tokenizer.encode(i)\n",
    "        data.append(output.ids)\n",
    "    return data"
>>>>>>> main
   ]
  },
  {
   "cell_type": "code",
<<<<<<< HEAD
   "execution_count": 17,
   "metadata": {},
   "outputs": [],
   "source": [
    "vocab_path = '../newsbt_data/vocabulary/'\n",
    "#code_vocab_path = vocab_path + 'vocab.code'\n",
    "#nl_vocab_path = vocab_path + 'vocab.nl'\n",
    "newsbtcode_vocab_path = vocab_path + 'newsbtcode'\n",
    "\n",
=======
   "execution_count": 33,
   "metadata": {},
   "outputs": [],
   "source": [
>>>>>>> main
    "# out path\n",
    "train_out_path = '../newsbt_data/train/'\n",
    "test_out_path = '../newsbt_data/test/'\n",
    "valid_out_path = '../newsbt_data/valid/'"
   ]
  },
  {
   "cell_type": "code",
   "execution_count": 36,
   "metadata": {},
   "outputs": [],
   "source": [
<<<<<<< HEAD
    "# sbt_dic, rev_sbt_dic = initialize_vocabulary(se_sbt_vocab_path) # file to dictionary\n",
    "\n",
    "# test_sbt = idx_to_sentence('./test/sbt', rev_sbt_dic, \"sbt\")"
   ]
  },
  {
   "cell_type": "markdown",
   "metadata": {},
   "source": [
    "### vocab 파일 불러와서 딕셔너리 생성"
   ]
  },
  {
   "cell_type": "markdown",
   "metadata": {},
   "source": [
    "### indexing newsbtcode"
=======
    "train_data = make_tokens(my_tokenizer, train_newsbtcode_lines)\n",
    "test_data = make_tokens(my_tokenizer, test_newsbtcode_lines)\n",
    "valid_data = make_tokens(my_tokenizer, valid_newsbtcode_lines)"
   ]
  },
  {
   "cell_type": "code",
   "execution_count": 39,
   "metadata": {},
   "outputs": [
    {
     "data": {
      "text/plain": [
       "'public Modifier int BasicType entrySize MethodDeclaration ( Separator Object ReferenceType key FormalParameter , Separator Object ReferenceType value FormalParameter ) Separator throws Keyword IllegalArgumentException Identifier { Separator if Keyword ( Separator value FormalParameter == Operator Token Identifier . Separator TOMBSTONE Identifier ) Separator { Separator return Keyword NUM_ Identifier ; Separator } Separator int BasicType size Identifier = Operator HeapLRUCapacityController Identifier . Separator this Keyword . Separator getPerEntryOverhead Identifier ( Separator ) Separator ; Separator size Identifier += Operator sizeof Identifier ( Separator key FormalParameter ) Separator ; Separator size Identifier += Operator sizeof Identifier ( Separator value FormalParameter ) Separator ; Separator return Keyword size Identifier ; Separator } Separator'"
      ]
     },
     "execution_count": 39,
     "metadata": {},
     "output_type": "execute_result"
    }
   ],
   "source": [
    "test_newsbtcode_lines[0]"
>>>>>>> main
   ]
  },
  {
   "cell_type": "code",
<<<<<<< HEAD
   "execution_count": 18,
   "metadata": {},
   "outputs": [],
   "source": [
    "newsbtcode_dic, rev_newsbtcode_dic = initialize_vocabulary(newsbtcode_vocab_path) # file to dictionary\n",
    "\n",
    "train_newsbtcode = sentence_to_idx(train_newsbtcode_path, newsbtcode_dic, \"newsbtcode\")\n",
    "test_newsbtcode = sentence_to_idx(test_newsbtcode_path, newsbtcode_dic, \"newsbtcode\")\n",
    "valid_newsbtcode = sentence_to_idx(valid_newsbtcode_path, newsbtcode_dic, \"newsbtcode\")"
=======
   "execution_count": 45,
   "metadata": {},
   "outputs": [],
   "source": [
    "save_idx_file(train_out_path, \"newsbtcode_bpe\", train_data)\n",
    "save_idx_file(test_out_path, \"newsbtcode_bpe\", test_data)\n",
    "save_idx_file(valid_out_path, 'newsbtcode_bpe', valid_data)\n"
>>>>>>> main
   ]
  },
  {
   "cell_type": "code",
   "execution_count": 19,
   "metadata": {},
   "outputs": [],
   "source": [
<<<<<<< HEAD
    "save_idx_file(train_out_path, 'newsbtcode_idx', train_newsbtcode)\n",
    "save_idx_file(test_out_path, 'newsbtcode_idx', test_newsbtcode)\n",
    "save_idx_file(valid_out_path, 'newsbtcode_idx', valid_newsbtcode)"
=======
    "output = tokenizer.encode(\"Hello, y'all! How are you 😁 ?\")\n",
    "print(output.tokens)\n",
    "# [\"Hello\", \",\", \"y\", \"'\", \"all\", \"!\", \"How\", \"are\", \"you\", \"[UNK]\", \"?\"]\n",
    "print(output.ids)\n",
    "# [27253, 16, 93, 11, 5097, 5, 7961, 5112, 6218, 0, 35]\n",
    "print(output.offsets[9])\n",
    "# (26, 27)\n",
    "tokenizer.token_to_id(\"[SEP]\")\n",
    "# 2"
>>>>>>> main
   ]
  }
 ],
 "metadata": {
  "interpreter": {
   "hash": "caf1c2fcf97217de91eafa76b907d50f9ea378f5ffbee7f571142d119bb6a771"
  },
  "kernelspec": {
   "display_name": "Python 3.9.7 ('base': conda)",
   "language": "python",
   "name": "python3"
  },
  "language_info": {
   "codemirror_mode": {
    "name": "ipython",
    "version": 3
   },
   "file_extension": ".py",
   "mimetype": "text/x-python",
   "name": "python",
   "nbconvert_exporter": "python",
   "pygments_lexer": "ipython3",
   "version": "3.7.13"
  },
  "orig_nbformat": 4
 },
 "nbformat": 4,
 "nbformat_minor": 2
}
