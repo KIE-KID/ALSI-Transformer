{
 "cells": [
  {
   "cell_type": "code",
   "execution_count": 2,
   "metadata": {},
   "outputs": [
    {
     "name": "stderr",
     "output_type": "stream",
     "text": [
      "[nltk_data] Downloading package punkt to /home/ubuntu/nltk_data...\n",
      "[nltk_data]   Package punkt is already up-to-date!\n"
     ]
    }
   ],
   "source": [
    "import os\n",
    "\n",
    "from utils_park import *\n",
    "from vocab import *\n",
    "\n",
    "from tokenizers import Tokenizer\n",
    "from tokenizers.pre_tokenizers import Whitespace\n",
    "from tokenizers.models import BPE\n",
    "from tokenizers.trainers import BpeTrainer\n",
    "\n",
    "from transformers import BartForConditionalGeneration, BartTokenizer\n",
    "from tokenizers import ByteLevelBPETokenizer"
   ]
  },
  {
   "cell_type": "code",
   "execution_count": 2,
   "metadata": {},
   "outputs": [],
   "source": [
    "dir = '../newsbt_data'\n",
    "VOCAB_SIZE = 40000 # 40000\n",
    "out_path = os.path.join(dir, 'vocabulary/')\n",
    "\n",
    "PAD = '<pad>'\n",
    "UNK = '<unk>'\n",
    "SOS = '<start>'\n",
    "EOS = '<end>'\n",
    "\n",
    "PAD_ID = 0\n",
    "UNK_ID = 1\n",
    "SOS_ID = 2\n",
    "EOS_ID = 3\n",
    "\n",
    "train_newsbtcode_path = os.path.join(dir,'train/newsbtcode')\n",
    "valid_newsbtcode_path = os.path.join(dir,'valid/newsbtcode')\n",
    "test_newsbtcode_path = os.path.join(dir,'test/newsbtcode')\n",
    "train_newsbtcode_camel_path = os.path.join(dir,'train/newsbtcode_camel')\n",
    "valid_newsbtcode_camel_path = os.path.join(dir,'valid/newsbtcode_camel')\n",
    "test_newsbtcode_camel_path = os.path.join(dir,'test/newsbtcode_camel')"
   ]
  },
  {
   "cell_type": "code",
   "execution_count": 3,
   "metadata": {},
   "outputs": [
    {
     "name": "stdout",
     "output_type": "stream",
     "text": [
      "445812\n",
      "20000\n",
      "20000\n"
     ]
    }
   ],
   "source": [
    "train_newsbtcode_lines = read_file(train_newsbtcode_path)\n",
    "test_newsbtcode_lines = read_file(test_newsbtcode_path)\n",
    "valid_newsbtcode_lines = read_file(valid_newsbtcode_path)\n",
    "print(len(train_newsbtcode_lines)) # 문장개수\n",
    "print(len(test_newsbtcode_lines)) # 문장개수\n",
    "print(len(valid_newsbtcode_lines)) # 문장개수\n",
    "\n",
    "# for line in isbtcode_lines[:3]:\n",
    "#     print(line)"
   ]
  },
  {
   "cell_type": "code",
   "execution_count": 13,
   "metadata": {},
   "outputs": [
    {
     "name": "stdout",
     "output_type": "stream",
     "text": [
      "445812\n",
      "20000\n",
      "20000\n"
     ]
    }
   ],
   "source": [
    "train_newsbtcode_camel_lines = read_file(train_newsbtcode_camel_path)\n",
    "test_newsbtcode_camel_lines = read_file(test_newsbtcode_camel_path)\n",
    "valid_newsbtcode_camel_lines =read_file(valid_newsbtcode_camel_path)\n",
    "print(len(train_newsbtcode_camel_lines)) # 문장개수\n",
    "print(len(test_newsbtcode_camel_lines)) # 문장개수\n",
    "print(len(valid_newsbtcode_camel_lines)) # 문장개수"
   ]
  },
  {
   "cell_type": "code",
   "execution_count": 43,
   "metadata": {},
   "outputs": [
    {
     "name": "stdout",
     "output_type": "stream",
     "text": [
      "\n",
      "\n",
      "\n"
     ]
    }
   ],
   "source": [
    "#tokenizer = ByteLevelBPETokenizer()\n",
    "#tokenizer.train(files=\"../newsbt_data/train/newsbtcode\",\n",
    "#                vocab_size=52000, min_frequency=1, special_tokens=[\"<pad>\",\"<unk>\", \"<start>\", \"<end>\"])"   ]
  },
  {
   "cell_type": "code",
   "execution_count": 12,
   "metadata": {},
   "outputs": [
    {
     "name": "stdout",
     "output_type": "stream",
     "text": [
      "\n",
      "\n",
      "\n"
     ]
    }
   ],
   "source": [
    "t = Tokenizer(BPE())\n",
    "t.pre_tokenizer = Whitespace()\n",
    "trainer = BpeTrainer(vocab_size=52000,\n",
    "show_progress = True,\n",
    "special_tokens = [\"<pad>\",\"<unk>\", \"<start>\", \"<end>\"])\n",
    "t.train(files=[\"../newsbt_data/train/newsbtcode\"], trainer=trainer)"   ]
  },
  {
   "cell_type": "code",
   "execution_count": 25,
   "metadata": {},
   "outputs": [],
   "source": [
    "t.save(\"../newsbt_data/vocabulary/newsbtcode_bpe.json\")"
   ]
  },
  {
   "cell_type": "code",
   "execution_count": 8,
   "metadata": {},
   "outputs": [
    {
     "name": "stdout",
     "output_type": "stream",
     "text": [
      "\n",
      "\n",
      "\n"
     ]
    }
   ],
   "source": [
    "t2 = Tokenizer(BPE())\n",
    "t2.pre_tokenizer = Whitespace()\n",
    "trainer = BpeTrainer(vocab_size=52000,\n",
    "show_progress = True,\n",
    "special_tokens = [\"<pad>\",\"<unk>\", \"<start>\", \"<end>\"])\n",
    "t2.train(files=[\"../newsbt_data/train/newsbtcode_camel\"], trainer=trainer)"
   ]
  },
  {
   "cell_type": "code",
   "execution_count": 9,
   "metadata": {},
   "outputs": [],
   "source": [
    "t2.save(\"../newsbt_data/vocabulary/newsbtcode_camel_bpe.json\")"
   ]
  },
  {
   "cell_type": "markdown",
   "metadata": {},
   "source": [
    "### indexing newsbtcode"
   ]
  },
  {
   "cell_type": "code",
   "execution_count": 26,
   "metadata": {},
   "outputs": [],
   "source": [
    "my_tokenizer = Tokenizer.from_file(\"../newsbt_data/vocabulary/newsbtcode_bpe.json\")"
   ]
  },
  {
   "cell_type": "code",
   "execution_count": 10,
   "metadata": {},
   "outputs": [],
   "source": [
    "my_tokenizer2 = Tokenizer.from_file(\"../newsbt_data/vocabulary/newsbtcode_camel_bpe.json\")"
   ]
  },
  {
   "cell_type": "code",
   "execution_count": 11,
   "metadata": {},
   "outputs": [],
   "source": [
    "def make_tokens(tokenizer, lines):\n",
    "    data = []\n",
    "    for i in lines:\n",
    "        output = tokenizer.encode(i)\n",
    "        data.append(output.ids)\n",
    "    return data"
   ]
  },
  {
   "cell_type": "code",
   "execution_count": 12,
   "metadata": {},
   "outputs": [],
   "source": [
    "# out path\n",
    "train_out_path = '../newsbt_data/train/'\n",
    "test_out_path = '../newsbt_data/test/'\n",
    "valid_out_path = '../newsbt_data/valid/'"
   ]
  },
  {
   "cell_type": "code",
   "execution_count": 36,
   "metadata": {},
   "outputs": [],
   "source": [
    "train_data = make_tokens(my_tokenizer, train_newsbtcode_lines)\n",
    "test_data = make_tokens(my_tokenizer, test_newsbtcode_lines)\n",
    "valid_data = make_tokens(my_tokenizer, valid_newsbtcode_lines)"
   ]
  },
  {
   "cell_type": "code",
   "execution_count": 45,
   "metadata": {},
   "outputs": [],
   "source": [
    "save_idx_file(train_out_path, \"newsbtcode_bpe\", train_data)\n",
    "save_idx_file(test_out_path, \"newsbtcode_bpe\", test_data)\n",
    "save_idx_file(valid_out_path, 'newsbtcode_bpe', valid_data)\n"
   ]
  },
  {
   "cell_type": "code",
   "execution_count": 39,
   "metadata": {},
   "outputs": [
    {
     "data": {
      "text/plain": [
       "'public Modifier int BasicType entrySize MethodDeclaration ( Separator Object ReferenceType key FormalParameter , Separator Object ReferenceType value FormalParameter ) Separator throws Keyword IllegalArgumentException Identifier { Separator if Keyword ( Separator value FormalParameter == Operator Token Identifier . Separator TOMBSTONE Identifier ) Separator { Separator return Keyword NUM_ Identifier ; Separator } Separator int BasicType size Identifier = Operator HeapLRUCapacityController Identifier . Separator this Keyword . Separator getPerEntryOverhead Identifier ( Separator ) Separator ; Separator size Identifier += Operator sizeof Identifier ( Separator key FormalParameter ) Separator ; Separator size Identifier += Operator sizeof Identifier ( Separator value FormalParameter ) Separator ; Separator return Keyword size Identifier ; Separator } Separator'"
      ]
     },
     "execution_count": 39,
     "metadata": {},
     "output_type": "execute_result"
    }
   ],
   "source": [
    "test_newsbtcode_lines[0]"
   ]
  },
  {
   "cell_type": "code",
   "execution_count": 14,
   "metadata": {},
   "outputs": [],
   "source": [
    "train_data2 = make_tokens(my_tokenizer2, train_newsbtcode_camel_lines)\n",
    "test_data2 = make_tokens(my_tokenizer2, test_newsbtcode_camel_lines)\n",
    "valid_data2 = make_tokens(my_tokenizer2, valid_newsbtcode_camel_lines)"
   ]
  },
  {
   "cell_type": "code",
   "execution_count": 15,
   "metadata": {},
   "outputs": [],
   "source": [
    "save_idx_file(train_out_path, \"newsbtcode_camel_bpe\", train_data2)\n",
    "save_idx_file(test_out_path, \"newsbtcode_camel_bpe\", test_data2)\n",
    "save_idx_file(valid_out_path, 'newsbtcode_camel_bpe', valid_data2)\n"
   "execution_count": 45,
   "metadata": {},
   "outputs": [],
   "source": [
    "save_idx_file(train_out_path, \"newsbtcode_bpe\", train_data)\n",
    "save_idx_file(test_out_path, \"newsbtcode_bpe\", test_data)\n",
    "save_idx_file(valid_out_path, 'newsbtcode_bpe', valid_data)\n"
   ]
  },
  {
   "cell_type": "code",
   "execution_count": 19,
   "metadata": {},
   "outputs": [],
   "source": [
    "output = tokenizer.encode(\"Hello, y'all! How are you 😁 ?\")\n",
    "print(output.tokens)\n",
    "# [\"Hello\", \",\", \"y\", \"'\", \"all\", \"!\", \"How\", \"are\", \"you\", \"[UNK]\", \"?\"]\n",
    "print(output.ids)\n",
    "# [27253, 16, 93, 11, 5097, 5, 7961, 5112, 6218, 0, 35]\n",
    "print(output.offsets[9])\n",
    "# (26, 27)\n",
    "tokenizer.token_to_id(\"[SEP]\")\n",
    "# 2"
   ]
  }
 ],
 "metadata": {
  "interpreter": {
   "hash": "caf1c2fcf97217de91eafa76b907d50f9ea378f5ffbee7f571142d119bb6a771"
  },
  "kernelspec": {
   "display_name": "Python 3.9.7 ('base': conda)",
   "language": "python",
   "name": "python3"
  },
  "language_info": {
   "codemirror_mode": {
    "name": "ipython",
    "version": 3
   },
   "file_extension": ".py",
   "mimetype": "text/x-python",
   "name": "python",
   "nbconvert_exporter": "python",
   "pygments_lexer": "ipython3",
   "version": "3.7.13"
  },
  "orig_nbformat": 4
 },
 "nbformat": 4,
 "nbformat_minor": 2
}
