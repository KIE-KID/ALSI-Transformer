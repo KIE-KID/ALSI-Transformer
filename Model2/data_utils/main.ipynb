{
 "cells": [
  {
   "cell_type": "code",
   "execution_count": 19,
   "metadata": {},
   "outputs": [],
   "source": [
    "import os\n",
    "\n",
    "from utils_park import *\n",
    "from vocab import *"
   ]
  },
  {
   "cell_type": "code",
   "execution_count": 2,
   "metadata": {},
   "outputs": [],
   "source": [
    "rq1 = '../newsbt_data'\n",
    "VOCAB_SIZE = 40000 # 40000\n",
    "out_path = os.path.join(rq1, 'vocabulary/')\n",
    "\n",
    "PAD = '<pad>'\n",
    "UNK = '<unk>'\n",
    "SOS = '<start>'\n",
    "EOS = '<end>'\n",
    "\n",
    "PAD_ID = 0\n",
    "UNK_ID = 1\n",
    "SOS_ID = 2\n",
    "EOS_ID = 3\n",
    "\n",
    "train_newsbtcode_path = os.path.join(rq1,'train/newsbtcode')\n",
    "\n",
    "valid_newsbtcode_path = os.path.join(rq1,'valid/newsbtcode')\n",
    "\n",
    "test_newsbtcode_path = os.path.join(rq1,'test/newsbtcode')"
   ]
  },
  {
   "cell_type": "markdown",
   "metadata": {},
   "source": [
    "# Code, nl Vocab은 다른 모델과 동일"
   ]
  },
  {
   "cell_type": "markdown",
   "metadata": {},
   "source": [
    "# newsbtcode Vocab 만들기"
   ]
  },
  {
   "cell_type": "code",
   "execution_count": 3,
   "metadata": {},
   "outputs": [
    {
     "name": "stdout",
     "output_type": "stream",
     "text": [
      "445812\n"
     ]
    }
   ],
   "source": [
    "f_name = train_newsbtcode_path\n",
    "newsbtcode_lines = read_file(f_name)\n",
    "\n",
    "print(len(newsbtcode_lines)) # 문장개수\n",
    "\n",
    "# for line in isbtcode_lines[:3]:\n",
    "#     print(line)"
   ]
  },
  {
   "cell_type": "code",
   "execution_count": 4,
   "metadata": {},
   "outputs": [],
   "source": [
    "t = make_token_instance(newsbtcode_lines)"
   ]
  },
  {
   "cell_type": "markdown",
   "metadata": {},
   "source": [
    "### newsbtcode vocab 저장"
   ]
  },
  {
   "cell_type": "code",
   "execution_count": 15,
   "metadata": {},
   "outputs": [],
   "source": [
    "out_name = 'newsbtcode'\n",
    "out_vocab = newsbtcode_vocab\n",
    "save_vocab(out_path, out_name, out_vocab)       "
   ]
  },
  {
   "cell_type": "markdown",
   "metadata": {},
   "source": [
    "# Vocab 불러와서 문장 indexing"
   ]
  },
  {
   "cell_type": "code",
   "execution_count": 17,
   "metadata": {},
   "outputs": [],
   "source": [
    "vocab_path = '../newsbt_data/vocabulary/'\n",
    "#code_vocab_path = vocab_path + 'vocab.code'\n",
    "#nl_vocab_path = vocab_path + 'vocab.nl'\n",
    "newsbtcode_vocab_path = vocab_path + 'newsbtcode'\n",
    "\n",
    "# out path\n",
    "train_out_path = '../newsbt_data/train/'\n",
    "test_out_path = '../newsbt_data/test/'\n",
    "valid_out_path = '../newsbt_data/valid/'"
   ]
  },
  {
   "cell_type": "code",
   "execution_count": null,
   "metadata": {},
   "outputs": [],
   "source": [
    "# sbt_dic, rev_sbt_dic = initialize_vocabulary(se_sbt_vocab_path) # file to dictionary\n",
    "\n",
    "# test_sbt = idx_to_sentence('./test/sbt', rev_sbt_dic, \"sbt\")"
   ]
  },
  {
   "cell_type": "markdown",
   "metadata": {},
   "source": [
    "### vocab 파일 불러와서 딕셔너리 생성"
   ]
  },
  {
   "cell_type": "markdown",
   "metadata": {},
   "source": [
    "### indexing newsbtcode"
   ]
  },
  {
   "cell_type": "code",
   "execution_count": 18,
   "metadata": {},
   "outputs": [],
   "source": [
    "newsbtcode_dic, rev_newsbtcode_dic = initialize_vocabulary(newsbtcode_vocab_path) # file to dictionary\n",
    "\n",
    "train_newsbtcode = sentence_to_idx(train_newsbtcode_path, newsbtcode_dic, \"newsbtcode\")\n",
    "test_newsbtcode = sentence_to_idx(test_newsbtcode_path, newsbtcode_dic, \"newsbtcode\")\n",
    "valid_newsbtcode = sentence_to_idx(valid_newsbtcode_path, newsbtcode_dic, \"newsbtcode\")"
   ]
  },
  {
   "cell_type": "code",
   "execution_count": 19,
   "metadata": {},
   "outputs": [],
   "source": [
    "save_idx_file(train_out_path, 'newsbtcode_idx', train_newsbtcode)\n",
    "save_idx_file(test_out_path, 'newsbtcode_idx', test_newsbtcode)\n",
    "save_idx_file(valid_out_path, 'newsbtcode_idx', valid_newsbtcode)"
   ]
  }
 ],
 "metadata": {
  "interpreter": {
   "hash": "caf1c2fcf97217de91eafa76b907d50f9ea378f5ffbee7f571142d119bb6a771"
  },
  "kernelspec": {
   "display_name": "Python 3.9.7 ('base': conda)",
   "language": "python",
   "name": "python3"
  },
  "language_info": {
   "codemirror_mode": {
    "name": "ipython",
    "version": 3
   },
   "file_extension": ".py",
   "mimetype": "text/x-python",
   "name": "python",
   "nbconvert_exporter": "python",
   "pygments_lexer": "ipython3",
   "version": "3.7.13"
  },
  "orig_nbformat": 4
 },
 "nbformat": 4,
 "nbformat_minor": 2
}
