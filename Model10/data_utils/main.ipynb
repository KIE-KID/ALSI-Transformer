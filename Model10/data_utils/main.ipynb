{
 "cells": [
  {
   "cell_type": "code",
   "execution_count": 1,
   "metadata": {},
   "outputs": [
    {
     "name": "stderr",
     "output_type": "stream",
     "text": [
      "[nltk_data] Downloading package punkt to /home/ubuntu/nltk_data...\n",
      "[nltk_data]   Package punkt is already up-to-date!\n"
     ]
    }
   ],
   "source": [
    "import os\n",
    "\n",
    "from utils_park import *\n",
    "from vocab import *\n",
    "\n",
    "from tokenizers import Tokenizer\n",
    "from tokenizers.pre_tokenizers import Whitespace\n",
    "from tokenizers.models import BPE\n",
    "from tokenizers.trainers import BpeTrainer"
   ]
  },
  {
   "cell_type": "code",
   "execution_count": 2,
   "metadata": {},
   "outputs": [],
   "source": [
    "dir = '../newsbt_data/'\n",
    "out_path = os.path.join(dir, '40000_vocab_park/')\n",
    "\n",
    "PAD = '<pad>'\n",
    "UNK = '<unk>'\n",
    "SOS = '<start>'\n",
    "EOS = '<end>'\n",
    "\n",
    "PAD_ID = 0\n",
    "UNK_ID = 1\n",
    "SOS_ID = 2\n",
    "EOS_ID = 3\n",
    "\n",
    "train_code_path = os.path.join(dir, 'train/train.token.code')\n",
    "train_type_path = os.path.join(dir,'train/train.token.simsbt')\n",
    "\n",
    "valid_code_path = os.path.join(dir, 'valid/valid.token.code')\n",
    "valid_type_path = os.path.join(dir,'valid/valid.token.simsbt')\n",
    "\n",
    "test_code_path = os.path.join(dir, 'test/test.token.code')\n",
    "test_type_path = os.path.join(dir,'test/test.token.simsbt')"
   ]
  },
  {
   "cell_type": "code",
   "execution_count": 3,
   "metadata": {},
   "outputs": [],
   "source": [
    "train_code = read_file(train_code_path)\n",
    "test_code = read_file(test_code_path)\n",
    "valid_code = read_file(valid_code_path)\n",
    "\n",
    "train_type = read_file(train_type_path)\n",
    "test_type = read_file(test_type_path)\n",
    "valid_type = read_file(valid_type_path)"
   ]
  },
  {
   "cell_type": "code",
   "execution_count": 4,
   "metadata": {},
   "outputs": [],
   "source": [
    "split_train_code = split_code(train_code)\n",
    "split_test_code = split_code(test_code)\n",
    "split_valid_code = split_code(valid_code)"
   ]
  },
  {
   "cell_type": "code",
   "execution_count": 5,
   "metadata": {},
   "outputs": [],
   "source": [
    "def join_code_type_withtoken(code_data, type_data):\n",
    "    data = []\n",
    "    for i, j in zip(code_data, type_data):\n",
    "        temp = i + ' <code> ' + j\n",
    "        data.append(temp)\n",
    "    return data\n"
   ]
  },
  {
   "cell_type": "code",
   "execution_count": 6,
   "metadata": {},
   "outputs": [],
   "source": [
    "train_data4 = join_code_type_withtoken(split_train_code, train_type)\n",
    "test_data4 = join_code_type_withtoken(split_test_code, test_type)\n",
    "valid_data4 = join_code_type_withtoken(split_valid_code, valid_type)"
   ]
  },
  {
   "cell_type": "code",
   "execution_count": 7,
   "metadata": {},
   "outputs": [],
   "source": [
    "# out path\n",
    "train_out_path = '../newsbt_data/train/'\n",
    "test_out_path = '../newsbt_data/test/'\n",
    "valid_out_path = '../newsbt_data/valid/'"
   ]
  },
  {
   "cell_type": "code",
   "execution_count": 8,
   "metadata": {},
   "outputs": [],
   "source": [
    "save_file(train_out_path, \"code_simsbt_camel\", train_data4)\n",
    "save_file(test_out_path, \"code_simsbt_camel\", test_data4)\n",
    "save_file(valid_out_path, \"code_simsbt_camel\", valid_data4)"
   ]
  },
  {
   "cell_type": "markdown",
   "metadata": {},
   "source": [
    "# Make Vocab"
   ]
  },
  {
   "cell_type": "code",
   "execution_count": 9,
   "metadata": {},
   "outputs": [
    {
     "name": "stdout",
     "output_type": "stream",
     "text": [
      "445812\n",
      "20000\n",
      "20000\n"
     ]
    }
   ],
   "source": [
    "train_ccode_simsbt_camel_lines = read_file('../newsbt_data/train/code_simsbt_camel')\n",
    "test_code_simsbt_camel_lines = read_file('../newsbt_data/test/code_simsbt_camel')\n",
    "valid_code_simsbt_camel_lines = read_file('../newsbt_data/valid/code_simsbt_camel')\n",
    "print(len(train_ccode_simsbt_camel_lines)) # 문장개수\n",
    "print(len(test_code_simsbt_camel_lines)) # 문장개수\n",
    "print(len(valid_code_simsbt_camel_lines)) # 문장/개수"
   ]
  },
  {
   "cell_type": "code",
   "execution_count": 10,
   "metadata": {},
   "outputs": [
    {
     "name": "stdout",
     "output_type": "stream",
     "text": [
      "\n",
      "\n",
      "\n"
     ]
    }
   ],
   "source": [
    "t4 = Tokenizer(BPE())\n",
    "t4.pre_tokenizer = Whitespace()\n",
    "trainer = BpeTrainer(vocab_size=52000,\n",
    "show_progress = True,\n",
    "special_tokens = [\"<pad>\",\"<unk>\", \"<start>\", \"<end>\", \"<code>\"])\n",
    "t4.train(files=[\"../newsbt_data/train/code_simsbt_camel\"], trainer=trainer)"
   ]
  },
  {
   "cell_type": "code",
   "execution_count": 11,
   "metadata": {},
   "outputs": [],
   "source": [
    "t4.save(\"../newsbt_data/vocabulary/code_simsbt_camel_bpe.json\")"
   ]
  },
  {
   "cell_type": "markdown",
   "metadata": {},
   "source": [
    "### indexing newsbtcode"
   ]
  },
  {
   "cell_type": "code",
   "execution_count": 12,
   "metadata": {},
   "outputs": [],
   "source": [
    "my_tokenizer4 = Tokenizer.from_file(\"../newsbt_data/vocabulary/code_simsbt_camel_bpe.json\")"
   ]
  },
  {
   "cell_type": "code",
   "execution_count": 13,
   "metadata": {},
   "outputs": [],
   "source": [
    "def make_tokens(tokenizer, lines):\n",
    "    data = []\n",
    "    for i in lines:\n",
    "        output = tokenizer.encode(i)\n",
    "        data.append(output.ids)\n",
    "    return data"
   ]
  },
  {
   "cell_type": "code",
   "execution_count": 14,
   "metadata": {},
   "outputs": [],
   "source": [
    "# out path\n",
    "train_out_path = '../newsbt_data/train/'\n",
    "test_out_path = '../newsbt_data/test/'\n",
    "valid_out_path = '../newsbt_data/valid/'"
   ]
  },
  {
   "cell_type": "code",
   "execution_count": 15,
   "metadata": {},
   "outputs": [],
   "source": [
    "train_data4 = make_tokens(my_tokenizer4, train_ccode_simsbt_camel_lines)\n",
    "test_data4 = make_tokens(my_tokenizer4, test_code_simsbt_camel_lines)\n",
    "valid_data4 = make_tokens(my_tokenizer4, valid_code_simsbt_camel_lines)\n",
    "\n",
    "save_idx_file(train_out_path, \"code_simsbt_camel_bpe\", train_data4)\n",
    "save_idx_file(test_out_path, \"code_simsbt_camel_bpe\", test_data4)\n",
    "save_idx_file(valid_out_path, 'code_simsbt_camel_bpe', valid_data4)\n"
   ]
  },
  {
   "cell_type": "code",
   "execution_count": null,
   "metadata": {},
   "outputs": [],
   "source": []
  }
 ],
 "metadata": {
  "interpreter": {
   "hash": "caf1c2fcf97217de91eafa76b907d50f9ea378f5ffbee7f571142d119bb6a771"
  },
  "kernelspec": {
   "display_name": "Python 3.9.7 ('base': conda)",
   "language": "python",
   "name": "python3"
  },
  "language_info": {
   "codemirror_mode": {
    "name": "ipython",
    "version": 3
   },
   "file_extension": ".py",
   "mimetype": "text/x-python",
   "name": "python",
   "nbconvert_exporter": "python",
   "pygments_lexer": "ipython3",
   "version": "3.7.13"
  },
  "orig_nbformat": 4
 },
 "nbformat": 4,
 "nbformat_minor": 2
}
