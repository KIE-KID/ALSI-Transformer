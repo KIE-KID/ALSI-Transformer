{
 "cells": [
  {
   "cell_type": "code",
   "execution_count": 26,
   "metadata": {},
   "outputs": [],
   "source": [
    "#%%\n",
    "import os\n",
    "\n",
    "from utils_park import *\n",
    "from vocab import *\n",
    "from collections import Counter\n",
    "import numpy as np\n",
    "import pandas as pd\t\n",
    "import matplotlib.pyplot as plt\n",
    "%matplotlib inline"
   ]
  },
  {
   "cell_type": "code",
   "execution_count": 16,
   "metadata": {},
   "outputs": [],
   "source": [
    "rq1 = '../data_RQ1/'\n",
    "train_code_path = os.path.join(rq1,'train/train.token.code')\n",
    "valid_code_path = os.path.join(rq1,'valid/valid.token.code')\n",
    "test_code_path = os.path.join(rq1,'test/test.token.code')\n",
    "\n",
    "train_nl_path = os.path.join(rq1,'train/train.token.nl')\n",
    "valid_nl_path = os.path.join(rq1,'valid/valid.token.nl')\n",
    "test_nl_path = os.path.join(rq1,'test/test.token.nl')"
   ]
  },
  {
   "cell_type": "code",
   "execution_count": 17,
   "metadata": {},
   "outputs": [],
   "source": [
    "# 데이터 토큰개수 리스트\n",
    "def count_token(f_name):\n",
    "    tokens = read_file(f_name)\n",
    "    len_list = [len(x.split()) for x in tokens]\n",
    "    return len_list\n",
    "\n",
    "# 통계분석\n",
    "def cal(len_list):\n",
    "    mean = np.mean(len_list) # 평균\n",
    "    var = np.var(len_list) # 분산\n",
    "    std = np.std(len_list) # 표준편차\n",
    "    max_ = max(len_list) # 최댓값\n",
    "    min_ = min(len_list) # 최솟값\n",
    "    mid = np.median(len_list) # 중앙값\n",
    "\n",
    "    c = Counter(len_list) \n",
    "    temp_mode = c.most_common(1) # 최빈값\n",
    "    mode = temp_mode[0][0]\n",
    "\n",
    "    print(f'mean: {mean:.5f}')\n",
    "    print(f'variance: {var:.5f}')\n",
    "    print(f'std: {std:.5f}')\n",
    "    print(f'mode: {mode:.5f}')\n",
    "    print(f'mid: {mid:.5f}')\n",
    "    print(f'max: {max_:.5f}')\n",
    "    print(f'min: {min_:.5f}')"
   ]
  },
  {
   "cell_type": "code",
   "execution_count": 33,
   "metadata": {},
   "outputs": [
    {
     "name": "stdout",
     "output_type": "stream",
     "text": [
      "mean: 53.78873\n",
      "variance: 1944.64866\n",
      "std: 44.09817\n",
      "mode: 10.00000\n",
      "mid: 38.00000\n",
      "max: 199.00000\n",
      "min: 5.00000\n"
     ]
    }
   ],
   "source": [
    "train_code_tkn = count_token(train_code_path)\n",
    "cal(train_code_tkn)"
   ]
  },
  {
   "cell_type": "code",
   "execution_count": 19,
   "metadata": {},
   "outputs": [
    {
     "name": "stdout",
     "output_type": "stream",
     "text": [
      "mean: 53.51125\n",
      "variance: 1916.66947\n",
      "std: 43.77978\n",
      "mode: 10.00000\n",
      "mid: 38.00000\n",
      "max: 199.00000\n",
      "min: 5.00000\n"
     ]
    }
   ],
   "source": [
    "test_code_tkn = count_token(test_code_path)\n",
    "cal(test_code_tkn)"
   ]
  },
  {
   "cell_type": "code",
   "execution_count": 20,
   "metadata": {},
   "outputs": [
    {
     "name": "stdout",
     "output_type": "stream",
     "text": [
      "mean: 53.75495\n",
      "variance: 1960.60240\n",
      "std: 44.27869\n",
      "mode: 10.00000\n",
      "mid: 37.00000\n",
      "max: 199.00000\n",
      "min: 5.00000\n"
     ]
    }
   ],
   "source": [
    "valid_code_tkn = count_token(valid_code_path)\n",
    "cal(valid_code_tkn)"
   ]
  },
  {
   "cell_type": "code",
   "execution_count": 21,
   "metadata": {},
   "outputs": [
    {
     "name": "stdout",
     "output_type": "stream",
     "text": [
      "mean: 53.77591\n",
      "variance: 1944.15665\n",
      "std: 44.09259\n",
      "mode: 10.00000\n",
      "mid: 38.00000\n",
      "max: 199.00000\n",
      "min: 5.00000\n"
     ]
    }
   ],
   "source": [
    "all_code_tkn = train_code_tkn + test_code_tkn + valid_code_tkn\n",
    "cal(all_code_tkn)"
   ]
  },
  {
   "cell_type": "code",
   "execution_count": 41,
   "metadata": {},
   "outputs": [
    {
     "name": "stdout",
     "output_type": "stream",
     "text": [
      "mean: 10.36220\n",
      "variance: 22.54483\n",
      "std: 4.74814\n",
      "mode: 8.00000\n",
      "mid: 9.00000\n",
      "max: 34.00000\n",
      "min: 0.00000\n"
     ]
    }
   ],
   "source": [
    "train_nl_tkn = count_token(train_nl_path)\n",
    "cal(train_nl_tkn)"
   ]
  },
  {
   "cell_type": "code",
   "execution_count": 42,
   "metadata": {},
   "outputs": [
    {
     "name": "stdout",
     "output_type": "stream",
     "text": [
      "mean: 10.30995\n",
      "variance: 22.22068\n",
      "std: 4.71388\n",
      "mode: 8.00000\n",
      "mid: 9.00000\n",
      "max: 31.00000\n",
      "min: 0.00000\n"
     ]
    }
   ],
   "source": [
    "test_nl_tkn = count_token(test_nl_path)\n",
    "cal(test_nl_tkn)"
   ]
  },
  {
   "cell_type": "code",
   "execution_count": 43,
   "metadata": {},
   "outputs": [
    {
     "name": "stdout",
     "output_type": "stream",
     "text": [
      "mean: 10.34345\n",
      "variance: 22.25589\n",
      "std: 4.71762\n",
      "mode: 8.00000\n",
      "mid: 9.00000\n",
      "max: 30.00000\n",
      "min: 0.00000\n"
     ]
    }
   ],
   "source": [
    "valid_nl_tkn = count_token(valid_nl_path)\n",
    "cal(valid_nl_tkn)"
   ]
  },
  {
   "cell_type": "code",
   "execution_count": 44,
   "metadata": {},
   "outputs": [
    {
     "name": "stdout",
     "output_type": "stream",
     "text": [
      "mean: 10.35927\n",
      "variance: 22.51971\n",
      "std: 4.74549\n",
      "mode: 8.00000\n",
      "mid: 9.00000\n",
      "max: 34.00000\n",
      "min: 0.00000\n"
     ]
    }
   ],
   "source": [
    "all_nl_tkn = train_nl_tkn + test_nl_tkn + valid_nl_tkn\n",
    "cal(all_nl_tkn)"
   ]
  },
  {
   "cell_type": "code",
   "execution_count": 39,
   "metadata": {},
   "outputs": [
    {
     "data": {
      "image/png": "[encoded data removed]",
      "text/plain": [
       "<Figure size 576x432 with 1 Axes>"
      ]
     },
     "metadata": {},
     "output_type": "display_data"
    }
   ],
   "source": [
    "plt.style.use(['seaborn'])\n",
    "plt.figure(figsize=((8,6)))\n",
    "plt.xlabel('Code Length(Tokens)')\n",
    "plt.ylabel('Count')\n",
    "plt.hist(all_code_tkn, bins=20, rwidth = 0.9)\n",
    "plt.show()"
   ]
  },
  {
   "cell_type": "code",
   "execution_count": 47,
   "metadata": {},
   "outputs": [
    {
     "data": {
      "image/png": "[encoded data removed]",
      "text/plain": [
       "<Figure size 576x432 with 1 Axes>"
      ]
     },
     "metadata": {},
     "output_type": "display_data"
    }
   ],
   "source": [
    "plt.style.use(['seaborn'])\n",
    "plt.figure(figsize=((8,6)))\n",
    "plt.xlabel('Comment Length(Tokens)')\n",
    "plt.ylabel('Count')\n",
    "plt.hist(all_nl_tkn, bins=15, rwidth = 0.9)\n",
    "plt.show()"
   ]
  },
  {
   "cell_type": "code",
   "execution_count": 3,
   "metadata": {},
   "outputs": [],
   "source": [
    "rq1 = '../data_RQ1/'\n",
    "VOCAB_SIZE = 40000 # 40000\n",
    "out_path = os.path.join(rq1, '40000_vocab_park/')\n",
    "\n",
    "PAD = '<pad>'\n",
    "UNK = '<unk>'\n",
    "SOS = '<start>'\n",
    "EOS = '<end>'\n",
    "\n",
    "PAD_ID = 0\n",
    "UNK_ID = 1\n",
    "SOS_ID = 2\n",
    "EOS_ID = 3\n",
    "\n",
    "train_code_path = os.path.join(rq1, 'train/train.token.code')\n",
    "train_nl_path = os.path.join(rq1,'train/train.token.nl')\n",
    "#train_sbt_path = os.path.join(rq1,'train/train.token.sbt')\n",
    "train_isbtcode_path = os.path.join(rq1,'train/train.token.isbtcode')\n",
    "train_simsbt_path = os.path.join(rq1,'train/train.token.simsbt')\n",
    "train_simsbtcode_path = os.path.join(rq1,'train/train.token.simsbtcode')\n",
    "\n",
    "valid_code_path = os.path.join(rq1, 'valid/valid.token.code')\n",
    "valid_nl_path = os.path.join(rq1, 'valid/valid.token.nl')\n",
    "#valid_sbt_path = os.path.join(rq1,'valid/valid.token.sbt')\n",
    "valid_isbtcode_path = os.path.join(rq1,'valid/valid.token.isbtcode')\n",
    "valid_simsbt_path = os.path.join(rq1,'valid/valid.token.simsbt')\n",
    "valid_simsbtcode_path = os.path.join(rq1,'valid/valid.token.simsbtcode')\n",
    "\n",
    "test_code_path = os.path.join(rq1, 'test/test.token.code')\n",
    "test_nl_path =  os.path.join(rq1, 'test/test.token.nl')\n",
    "#test_sbt_path = os.path.join(rq1,'test/test.token.sbt')\n",
    "test_isbtcode_path = os.path.join(rq1,'test/test.token.isbtcode')\n",
    "test_simsbt_path = os.path.join(rq1,'test/test.token.simsbt')\n",
    "test_simsbtcode_path = os.path.join(rq1,'test/test.token.simsbtcode')\n"
   ]
  },
  {
   "cell_type": "markdown",
   "metadata": {},
   "source": [
    "# Code Vocab 만들기"
   ]
  },
  {
   "cell_type": "code",
   "execution_count": 9,
   "metadata": {},
   "outputs": [
    {
     "name": "stdout",
     "output_type": "stream",
     "text": [
      "445812\n"
     ]
    }
   ],
   "source": [
    "f_name = train_code_path\n",
    "code_lines = read_file(f_name)\n",
    "\n",
    "print(len(code_lines)) # 문장개수"
   ]
  },
  {
   "cell_type": "code",
   "execution_count": 7,
   "metadata": {},
   "outputs": [
    {
     "data": {
      "text/plain": [
       "['<pad>', '<unk>', '(', ')', ';', '.', ',', '{', '}', '=']"
      ]
     },
     "execution_count": 7,
     "metadata": {},
     "output_type": "execute_result"
    }
   ],
   "source": [
    "code_tokens = split_code(code_lines)\n",
    "code_vocab = make_vocab(code_tokens, \"code\", VOCAB_SIZE)\n",
    "code_vocab[:10] # vocab 상위 10개 확인"
   ]
  },
  {
   "cell_type": "markdown",
   "metadata": {},
   "source": [
    "### code vocab 저장"
   ]
  },
  {
   "cell_type": "code",
   "execution_count": 8,
   "metadata": {},
   "outputs": [],
   "source": [
    "out_name = 'vocab.code'\n",
    "out_vocab = code_vocab\n",
    "save_vocab(out_path, out_name, out_vocab)"
   ]
  },
  {
   "cell_type": "markdown",
   "metadata": {},
   "source": [
    "# nl vocab 만들기"
   ]
  },
  {
   "cell_type": "code",
   "execution_count": null,
   "metadata": {},
   "outputs": [],
   "source": [
    "f_name = train_nl_path\n",
    "nl_lines = read_file(f_name)\n",
    "\n",
    "print(len(nl_lines)) # 문장개수"
   ]
  },
  {
   "cell_type": "code",
   "execution_count": null,
   "metadata": {},
   "outputs": [],
   "source": [
    "nl_vocab = make_vocab(nl_lines, \"nl\", VOCAB_SIZE)"
   ]
  },
  {
   "cell_type": "markdown",
   "metadata": {},
   "source": [
    "### nl vocab 저장"
   ]
  },
  {
   "cell_type": "code",
   "execution_count": null,
   "metadata": {},
   "outputs": [],
   "source": [
    "out_name = 'vocab.nl'\n",
    "out_vocab = nl_vocab\n",
    "save_vocab(out_path, out_name, out_vocab)       "
   ]
  },
  {
   "cell_type": "markdown",
   "metadata": {},
   "source": [
    "# isbtcode Vocab 만들기"
   ]
  },
  {
   "cell_type": "code",
   "execution_count": 10,
   "metadata": {},
   "outputs": [
    {
     "name": "stdout",
     "output_type": "stream",
     "text": [
      "445812\n"
     ]
    }
   ],
   "source": [
    "f_name = train_isbtcode_path\n",
    "isbtcode_lines = read_file(f_name)\n",
    "\n",
    "print(len(isbtcode_lines)) # 문장개수\n",
    "\n",
    "# for line in isbtcode_lines[:3]:\n",
    "#     print(line)"
   ]
  },
  {
   "cell_type": "code",
   "execution_count": 11,
   "metadata": {},
   "outputs": [],
   "source": [
    "isbtcode_vocab = make_vocab(isbtcode_lines, \"isbtcode\", VOCAB_SIZE)"
   ]
  },
  {
   "cell_type": "markdown",
   "metadata": {},
   "source": [
    "### isbtcode vocab 저장"
   ]
  },
  {
   "cell_type": "code",
   "execution_count": 12,
   "metadata": {},
   "outputs": [],
   "source": [
    "out_name = 'vocab.isbtcode'\n",
    "out_vocab = isbtcode_vocab\n",
    "save_vocab(out_path, out_name, out_vocab)       "
   ]
  },
  {
   "cell_type": "markdown",
   "metadata": {},
   "source": [
    "# SIM SBT Vocab 만들기"
   ]
  },
  {
   "cell_type": "code",
   "execution_count": null,
   "metadata": {},
   "outputs": [],
   "source": [
    "f_name = train_simsbt_path\n",
    "simsbt_lines = read_file(f_name)\n",
    "\n",
    "print(len(simsbt_lines)) # 문장개수\n",
    "\n",
    "for line in simsbt_lines[:5]:\n",
    "    print(line)"
   ]
  },
  {
   "cell_type": "code",
   "execution_count": null,
   "metadata": {},
   "outputs": [],
   "source": [
    "simsbt_vocab = make_vocab(simsbt_lines, \"simsbt\", VOCAB_SIZE)"
   ]
  },
  {
   "cell_type": "markdown",
   "metadata": {},
   "source": [
    "### sim sbt vocab 저장"
   ]
  },
  {
   "cell_type": "code",
   "execution_count": null,
   "metadata": {},
   "outputs": [],
   "source": [
    "out_name = 'vocab.simsbt'\n",
    "out_vocab = simsbt_vocab\n",
    "save_vocab(out_path, out_name, out_vocab)       "
   ]
  },
  {
   "cell_type": "markdown",
   "metadata": {},
   "source": [
    "# SIM SBT+code Vocab 만들기"
   ]
  },
  {
   "cell_type": "code",
   "execution_count": null,
   "metadata": {},
   "outputs": [],
   "source": [
    "f_name = train_simsbtcode_path \n",
    "simsbtcode_lines = read_file(f_name)\n",
    "\n",
    "print(len(simsbtcode_lines)) # 문장개수\n",
    "\n",
    "for line in simsbtcode_lines[:5]:\n",
    "    print(line)"
   ]
  },
  {
   "cell_type": "code",
   "execution_count": null,
   "metadata": {},
   "outputs": [],
   "source": [
    "simsbtcode_vocab = make_vocab(simsbtcode_lines, \"simsbtcode\", VOCAB_SIZE)"
   ]
  },
  {
   "cell_type": "markdown",
   "metadata": {},
   "source": [
    "### sim sbt+code  vocab 저장"
   ]
  },
  {
   "cell_type": "code",
   "execution_count": null,
   "metadata": {},
   "outputs": [],
   "source": [
    "out_name = 'vocab.simsbtcode'\n",
    "out_vocab = simsbtcode_vocab\n",
    "save_vocab(out_path, out_name, out_vocab)       "
   ]
  },
  {
   "cell_type": "markdown",
   "metadata": {},
   "source": [
    "# IDS"
   ]
  },
  {
   "cell_type": "code",
   "execution_count": 10,
   "metadata": {},
   "outputs": [],
   "source": [
    "train_code = read_file(train_code_path)\n",
    "\n",
    "train_ids_list = []\n",
    "for i in train_code:\n",
    "    try:\n",
    "        train_ids_list.append(get_ids(i))\n",
    "    except:\n",
    "        pass"
   ]
  },
  {
   "cell_type": "code",
   "execution_count": 12,
   "metadata": {},
   "outputs": [],
   "source": [
    "test_code = read_file(test_code_path)\n",
    "\n",
    "test_ids_list = []\n",
    "for i in test_code:\n",
    "    try:\n",
    "        test_ids_list.append(get_ids(i))\n",
    "    except:\n",
    "        pass"
   ]
  },
  {
   "cell_type": "code",
   "execution_count": null,
   "metadata": {},
   "outputs": [],
   "source": [
    "valid_code = read_file(valid_code_path)\n",
    "\n",
    "valid_ids_list = []\n",
    "for i in valid_code:\n",
    "    try:\n",
    "        valid_ids_list.append(get_ids(i))\n",
    "    except:\n",
    "        pass"
   ]
  },
  {
   "cell_type": "code",
   "execution_count": null,
   "metadata": {},
   "outputs": [],
   "source": [
    "len(train_ids_list), len(test_ids_list), len(valid_ids_list)"
   ]
  },
  {
   "cell_type": "code",
   "execution_count": 11,
   "metadata": {},
   "outputs": [],
   "source": [
    "train_out_path = rq1 +'40000_idxdata_park/train/'\n",
    "test_out_path = rq1 + '40000_idxdata_park/test/'\n",
    "valid_out_path = rq1 +'40000_idxdata_park/valid/'"
   ]
  },
  {
   "cell_type": "code",
   "execution_count": null,
   "metadata": {},
   "outputs": [],
   "source": [
    "save_file(train_out_path, 'ids', train_ids_list)\n",
    "save_file(test_out_path, 'ids', test_ids_list)\n",
    "save_file(valid_out_path, 'ids', valid_ids_list)"
   ]
  },
  {
   "cell_type": "markdown",
   "metadata": {},
   "source": [
    "# SIM_IDS"
   ]
  },
  {
   "cell_type": "code",
   "execution_count": null,
   "metadata": {},
   "outputs": [],
   "source": [
    "train_code = read_file(train_code_path)\n",
    "\n",
    "train_simids_list = []\n",
    "for i in train_code:\n",
    "    try:\n",
    "        train_simids_list.append(get_simids(i))\n",
    "    except:\n",
    "        pass"
   ]
  },
  {
   "cell_type": "code",
   "execution_count": null,
   "metadata": {},
   "outputs": [],
   "source": [
    "test_code = read_file(test_code_path)\n",
    "\n",
    "test_simids_list = []\n",
    "for i in test_code:\n",
    "    try:\n",
    "        test_simids_list.append(get_simids(i))\n",
    "    except:\n",
    "        pass"
   ]
  },
  {
   "cell_type": "code",
   "execution_count": null,
   "metadata": {},
   "outputs": [],
   "source": [
    "valid_code = read_file(valid_code_path)\n",
    "\n",
    "valid_simids_list = []\n",
    "for i in valid_code:\n",
    "    try:\n",
    "        valid_simids_list.append(get_simids(i))\n",
    "    except:\n",
    "        pass"
   ]
  },
  {
   "cell_type": "code",
   "execution_count": null,
   "metadata": {},
   "outputs": [],
   "source": [
    "len(train_simids_list), len(test_simids_list), len(valid_simids_list)"
   ]
  },
  {
   "cell_type": "markdown",
   "metadata": {},
   "source": [
    "# Vocab 불러와서 문장 indexing"
   ]
  },
  {
   "cell_type": "code",
   "execution_count": 22,
   "metadata": {},
   "outputs": [],
   "source": [
    "vocab_path = '../data_RQ1/40000_vocab_park/'\n",
    "code_vocab_path = vocab_path + 'vocab.code'\n",
    "nl_vocab_path = vocab_path + 'vocab.nl'\n",
    "isbtcode_vocab_path = vocab_path + 'vocab.isbtcode'\n",
    "simsbt_vocab_path = vocab_path + 'vocab.simsbt'\n",
    "simsbtcode_vocab_path = vocab_path + 'vocab.simsbtcode' \n",
    "\n",
    "# out path\n",
    "train_out_path = '../data_RQ1/40000_idxdata_park/train/'\n",
    "test_out_path = '../data_RQ1/40000_idxdata_park/test/'\n",
    "valid_out_path = '../data_RQ1/40000_idxdata_park/valid/'"
   ]
  },
  {
   "cell_type": "code",
   "execution_count": null,
   "metadata": {},
   "outputs": [],
   "source": [
    "# sbt_dic, rev_sbt_dic = initialize_vocabulary(se_sbt_vocab_path) # file to dictionary\n",
    "\n",
    "# test_sbt = idx_to_sentence('./test/sbt', rev_sbt_dic, \"sbt\")"
   ]
  },
  {
   "cell_type": "markdown",
   "metadata": {},
   "source": [
    "### vocab 파일 불러와서 딕셔너리 생성"
   ]
  },
  {
   "cell_type": "markdown",
   "metadata": {},
   "source": [
    "### indexing code"
   ]
  },
  {
   "cell_type": "code",
   "execution_count": null,
   "metadata": {},
   "outputs": [],
   "source": [
    "code_dic, rev_code_dic = initialize_vocabulary(code_vocab_path) # file to dictionary\n",
    "\n",
    "train_code = sentence_to_idx(train_code_path, code_dic, \"code\")\n",
    "test_code = sentence_to_idx(test_code_path, code_dic, \"code\")\n",
    "valid_code = sentence_to_idx(valid_code_path, code_dic, \"code\")"
   ]
  },
  {
   "cell_type": "code",
   "execution_count": null,
   "metadata": {},
   "outputs": [],
   "source": [
    "save_idx_file(train_out_path, 'code', train_code)\n",
    "save_idx_file(test_out_path, 'code', test_code)\n",
    "save_idx_file(valid_out_path, 'code', valid_code)"
   ]
  },
  {
   "cell_type": "markdown",
   "metadata": {},
   "source": [
    "### indexing nl"
   ]
  },
  {
   "cell_type": "code",
   "execution_count": null,
   "metadata": {},
   "outputs": [],
   "source": [
    "nl_dic, rev_nl_dic = initialize_vocabulary(nl_vocab_path) # file to dictionary\n",
    "\n",
    "train_nl = sentence_to_idx(train_nl_path, nl_dic, \"nl\")\n",
    "test_nl = sentence_to_idx(test_nl_path, nl_dic, \"nl\")\n",
    "valid_nl = sentence_to_idx(valid_nl_path, nl_dic, \"nl\")"
   ]
  },
  {
   "cell_type": "code",
   "execution_count": null,
   "metadata": {},
   "outputs": [],
   "source": [
    "save_idx_file(train_out_path, 'nl', train_nl)\n",
    "save_idx_file(test_out_path, 'nl', test_nl)\n",
    "save_idx_file(valid_out_path, 'nl', valid_nl)"
   ]
  },
  {
   "cell_type": "markdown",
   "metadata": {},
   "source": [
    "### indexing isbtcode"
   ]
  },
  {
   "cell_type": "code",
   "execution_count": 18,
   "metadata": {},
   "outputs": [],
   "source": [
    "isbtcode_dic, rev_isbtcode_dic = initialize_vocabulary(isbtcode_vocab_path) # file to dictionary\n",
    "\n",
    "train_isbtcode = sentence_to_idx(train_isbtcode_path, isbtcode_dic, \"isbtcode\")\n",
    "test_isbtcode = sentence_to_idx(test_isbtcode_path, isbtcode_dic, \"isbtcode\")\n",
    "valid_isbtcode = sentence_to_idx(valid_isbtcode_path, isbtcode_dic, \"isbtcode\")"
   ]
  },
  {
   "cell_type": "code",
   "execution_count": 23,
   "metadata": {},
   "outputs": [],
   "source": [
    "save_idx_file(train_out_path, 'isbtcode', train_isbtcode)\n",
    "save_idx_file(test_out_path, 'isbtcode', test_isbtcode)\n",
    "save_idx_file(valid_out_path, 'isbtcode', valid_isbtcode)"
   ]
  },
  {
   "cell_type": "markdown",
   "metadata": {},
   "source": [
    "### indexing simsbt"
   ]
  },
  {
   "cell_type": "code",
   "execution_count": null,
   "metadata": {},
   "outputs": [],
   "source": [
    "simsbt_dic, rev_simsbt_dic = initialize_vocabulary(simsbt_vocab_path) # file to dictionary\n",
    "\n",
    "train_simsbt = sentence_to_idx(train_simsbt_path, simsbt_dic, \"simsbt\")\n",
    "test_simsbt = sentence_to_idx(test_simsbt_path, simsbt_dic, \"simsbt\")\n",
    "valid_simsbt = sentence_to_idx(valid_simsbt_path, simsbt_dic, \"simsbt\")"
   ]
  },
  {
   "cell_type": "code",
   "execution_count": null,
   "metadata": {},
   "outputs": [],
   "source": [
    "save_idx_file(train_out_path, 'simsbt', train_simsbt)\n",
    "save_idx_file(test_out_path, 'simsbt', test_simsbt)\n",
    "save_idx_file(valid_out_path, 'simsbt', valid_simsbt)"
   ]
  },
  {
   "cell_type": "markdown",
   "metadata": {},
   "source": [
    "### indexing simsbtcode"
   ]
  },
  {
   "cell_type": "code",
   "execution_count": null,
   "metadata": {},
   "outputs": [],
   "source": [
    "simsbtcode_dic, rev_simsbtcode_dic = initialize_vocabulary(simsbtcode_vocab_path) # file to dictionary\n",
    "\n",
    "train_simsbtcode = sentence_to_idx(train_simsbtcode_path, simsbtcode_dic, \"simsbtcode\")\n",
    "test_simsbtcode = sentence_to_idx(test_simsbtcode_path, simsbtcode_dic, \"simsbtcode\")\n",
    "valid_simsbtcode = sentence_to_idx(valid_simsbtcode_path, simsbtcode_dic, \"simsbtcode\")"
   ]
  },
  {
   "cell_type": "code",
   "execution_count": null,
   "metadata": {},
   "outputs": [],
   "source": [
    "save_idx_file(train_out_path, 'simsbtcode', train_simsbtcode)\n",
    "save_idx_file(test_out_path, 'simsbtcode', test_simsbtcode)\n",
    "save_idx_file(valid_out_path, 'simsbtcode', valid_simsbtcode)"
   ]
  },
  {
   "cell_type": "code",
   "execution_count": null,
   "metadata": {},
   "outputs": [],
   "source": []
  }
 ],
 "metadata": {
  "interpreter": {
   "hash": "caf1c2fcf97217de91eafa76b907d50f9ea378f5ffbee7f571142d119bb6a771"
  },
  "kernelspec": {
   "display_name": "Python 3.9.7 ('base': conda)",
   "language": "python",
   "name": "python3"
  },
  "language_info": {
   "codemirror_mode": {
    "name": "ipython",
    "version": 3
   },
   "file_extension": ".py",
   "mimetype": "text/x-python",
   "name": "python",
   "nbconvert_exporter": "python",
   "pygments_lexer": "ipython3",
   "version": "3.7.13"
  },
  "orig_nbformat": 4
 },
 "nbformat": 4,
 "nbformat_minor": 2
}
